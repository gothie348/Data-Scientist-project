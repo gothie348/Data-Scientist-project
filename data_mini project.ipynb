{
  "nbformat": 4,
  "nbformat_minor": 0,
  "metadata": {
    "colab": {
      "name": "data Gothie.ipynb",
      "provenance": [],
      "collapsed_sections": []
    },
    "interpreter": {
      "hash": "e4e9227d832dc9e17768780106ce3b9f84d4a17fc850b44b5e5a05f23459cc7d"
    },
    "kernelspec": {
      "display_name": "Python 3.8.5 64-bit ('base': conda)",
      "name": "python3"
    },
    "language_info": {
      "codemirror_mode": {
        "name": "ipython",
        "version": 3
      },
      "file_extension": ".py",
      "mimetype": "text/x-python",
      "name": "python",
      "nbconvert_exporter": "python",
      "pygments_lexer": "ipython3",
      "version": "3.8.5"
    }
  },
  "cells": [
    {
      "cell_type": "code",
      "metadata": {
        "id": "CnhU2UTyUx9y"
      },
      "source": [
        "import numpy as np\n",
        "import pandas as pd\n",
        "import matplotlib.pyplot as plt\n",
        "import seaborn as sns\n",
        "import re as re\n",
        "import datetime as dt\n",
        "\n"
      ],
      "execution_count": 2,
      "outputs": []
    },
    {
      "cell_type": "markdown",
      "metadata": {
        "id": "b6URuhf_Ux92"
      },
      "source": [
        "# Ayiti Analytics Data Processing Bootcamp\n",
        "  Ayiti Analytics Data wants to expand its training centers throughout all the communes of the country. Your role as a data analyst is to help them realize this dream.\n",
        "\n",
        "Its objective is to know which three communes of the country will be the most likely to expand its training centers.\n",
        "\n",
        "Knowing that each cohort must have 30 students\n",
        " \n",
        "* How many applications must be made to select 25% women for each on average\n",
        "\n",
        "* What are the most effective communication channels (Alumni, Facebook, WhatsApp, Friend ...) that will allow a student to be susceptible to selection\n",
        " \n",
        "* What is the average number of university students who should participate in this program\n",
        "* What will be the average number of applications per week that we could have\n",
        "* How many weeks should we extend the application process to select 60 students per commune?\n",
        "* If we were to do all the bootcamp online, who would be the best communes and how many applications would we need to select 30 student and what percentage of students would have a laptop, an internet connection, both at the same time\n",
        "* What are the most effective communication channels (Alumni, Facebook, WhatsApp, Friend ...) that will allow a women to be susceptible to selection\n",
        "\n",
        "### NB \n",
        "Use the same framework of the BA project to complete this project\n"
      ]
    },
    {
      "cell_type": "markdown",
      "metadata": {
        "id": "rNvBCXdXUqd1"
      },
      "source": [
        "## Data cleansing\n"
      ]
    },
    {
      "cell_type": "code",
      "metadata": {
        "id": "k8MyHCroBtTV"
      },
      "source": [
        "# for uploading the files\n",
        "commune=pd.read_excel(r\"commune.xlsx\")\n",
        "enroll = pd.read_csv(r\"enroll.csv\")\n",
        "quest = pd.read_csv(r\"quest.csv\")\n",
        "industry = pd.read_csv(r\"industry.csv\")\n",
        "ord = pd.read_csv(r\"ord.csv\")\n",
        "study_domain = pd.read_csv(r\"study_domain.csv\")\n",
        "transaction = pd.read_csv(r\"transaction.csv\")\n",
        "technology = pd.read_csv(r\"technology.csv\")"
      ],
      "execution_count": 99,
      "outputs": []
    },
    {
      "cell_type": "code",
      "metadata": {
        "colab": {
          "base_uri": "https://localhost:8080/",
          "height": 495
        },
        "id": "R-lD60MGDShi",
        "outputId": "3afb427c-0bbf-4650-da6e-c39caaccbbda"
      },
      "source": [
        "#to remove duplicated values\n",
        "df_study_domain = pd.get_dummies(data=study_domain[[\"key\", \"quest_id\", \"values\"]], columns=['values'], prefix=\"\", prefix_sep=\"\")\n",
        "df_study_domain.head()"
      ],
      "execution_count": 6,
      "outputs": [
        {
          "output_type": "execute_result",
          "data": {
            "text/html": [
              "<div>\n",
              "<style scoped>\n",
              "    .dataframe tbody tr th:only-of-type {\n",
              "        vertical-align: middle;\n",
              "    }\n",
              "\n",
              "    .dataframe tbody tr th {\n",
              "        vertical-align: top;\n",
              "    }\n",
              "\n",
              "    .dataframe thead th {\n",
              "        text-align: right;\n",
              "    }\n",
              "</style>\n",
              "<table border=\"1\" class=\"dataframe\">\n",
              "  <thead>\n",
              "    <tr style=\"text-align: right;\">\n",
              "      <th></th>\n",
              "      <th>key</th>\n",
              "      <th>quest_id</th>\n",
              "      <th>Accounting</th>\n",
              "      <th>Computer Science</th>\n",
              "      <th>Economics</th>\n",
              "      <th>Electrical Engineering</th>\n",
              "      <th>Law</th>\n",
              "      <th>Management</th>\n",
              "      <th>Medicine</th>\n",
              "      <th>Statistics</th>\n",
              "      <th>other</th>\n",
              "    </tr>\n",
              "  </thead>\n",
              "  <tbody>\n",
              "    <tr>\n",
              "      <th>0</th>\n",
              "      <td>other</td>\n",
              "      <td>905ddcf2-ce95-11eb-9a92-7c67a234f601</td>\n",
              "      <td>0</td>\n",
              "      <td>0</td>\n",
              "      <td>0</td>\n",
              "      <td>0</td>\n",
              "      <td>0</td>\n",
              "      <td>0</td>\n",
              "      <td>0</td>\n",
              "      <td>0</td>\n",
              "      <td>1</td>\n",
              "    </tr>\n",
              "    <tr>\n",
              "      <th>1</th>\n",
              "      <td>item1</td>\n",
              "      <td>905e4cf5-ce95-11eb-96a9-7c67a234f601</td>\n",
              "      <td>0</td>\n",
              "      <td>1</td>\n",
              "      <td>0</td>\n",
              "      <td>0</td>\n",
              "      <td>0</td>\n",
              "      <td>0</td>\n",
              "      <td>0</td>\n",
              "      <td>0</td>\n",
              "      <td>0</td>\n",
              "    </tr>\n",
              "    <tr>\n",
              "      <th>2</th>\n",
              "      <td>item6</td>\n",
              "      <td>905e4cf5-ce95-11eb-96a9-7c67a234f601</td>\n",
              "      <td>0</td>\n",
              "      <td>0</td>\n",
              "      <td>0</td>\n",
              "      <td>0</td>\n",
              "      <td>0</td>\n",
              "      <td>1</td>\n",
              "      <td>0</td>\n",
              "      <td>0</td>\n",
              "      <td>0</td>\n",
              "    </tr>\n",
              "    <tr>\n",
              "      <th>3</th>\n",
              "      <td>other</td>\n",
              "      <td>905e73fd-ce95-11eb-a7b0-7c67a234f601</td>\n",
              "      <td>0</td>\n",
              "      <td>0</td>\n",
              "      <td>0</td>\n",
              "      <td>0</td>\n",
              "      <td>0</td>\n",
              "      <td>0</td>\n",
              "      <td>0</td>\n",
              "      <td>0</td>\n",
              "      <td>1</td>\n",
              "    </tr>\n",
              "    <tr>\n",
              "      <th>4</th>\n",
              "      <td>other</td>\n",
              "      <td>905e9b27-ce95-11eb-9c37-7c67a234f601</td>\n",
              "      <td>0</td>\n",
              "      <td>0</td>\n",
              "      <td>0</td>\n",
              "      <td>0</td>\n",
              "      <td>0</td>\n",
              "      <td>0</td>\n",
              "      <td>0</td>\n",
              "      <td>0</td>\n",
              "      <td>1</td>\n",
              "    </tr>\n",
              "  </tbody>\n",
              "</table>\n",
              "</div>"
            ],
            "text/plain": [
              "     key                              quest_id  ...  Statistics  other\n",
              "0  other  905ddcf2-ce95-11eb-9a92-7c67a234f601  ...           0      1\n",
              "1  item1  905e4cf5-ce95-11eb-96a9-7c67a234f601  ...           0      0\n",
              "2  item6  905e4cf5-ce95-11eb-96a9-7c67a234f601  ...           0      0\n",
              "3  other  905e73fd-ce95-11eb-a7b0-7c67a234f601  ...           0      1\n",
              "4  other  905e9b27-ce95-11eb-9c37-7c67a234f601  ...           0      1\n",
              "\n",
              "[5 rows x 11 columns]"
            ]
          },
          "metadata": {
            "tags": []
          },
          "execution_count": 6
        }
      ]
    },
    {
      "cell_type": "code",
      "metadata": {
        "colab": {
          "base_uri": "https://localhost:8080/"
        },
        "id": "IX5-2o1EBD94",
        "outputId": "f0e35c1a-7289-4d16-b6cc-2f89059b4c09"
      },
      "source": [
        "# grouping by quest_id category and apply the sumrize function\n",
        "df_study_domain1 = df_study_domain.groupby(\"quest_id\").sum()\n",
        "df_study_domain1.head(2)\n",
        "print(df_study_domain1.shape)"
      ],
      "execution_count": 7,
      "outputs": [
        {
          "output_type": "stream",
          "text": [
            "(244, 9)\n"
          ],
          "name": "stdout"
        }
      ]
    },
    {
      "cell_type": "code",
      "metadata": {
        "colab": {
          "base_uri": "https://localhost:8080/",
          "height": 296
        },
        "id": "QWWuUJalMPH4",
        "outputId": "988df7fb-b4f3-45af-c37a-a25a46011b88"
      },
      "source": [
        "#to remove duplicated values\n",
        "df_technology = pd.get_dummies(technology[[\"key\", \"quest_id\", \"values\"]], columns=['values'], prefix=\"\", prefix_sep=\"\")\n",
        "df_technology1 = df_technology.groupby(\"quest_id\").sum()\n",
        "df_technology1.head(2)"
      ],
      "execution_count": 8,
      "outputs": [
        {
          "output_type": "execute_result",
          "data": {
            "text/html": [
              "<div>\n",
              "<style scoped>\n",
              "    .dataframe tbody tr th:only-of-type {\n",
              "        vertical-align: middle;\n",
              "    }\n",
              "\n",
              "    .dataframe tbody tr th {\n",
              "        vertical-align: top;\n",
              "    }\n",
              "\n",
              "    .dataframe thead th {\n",
              "        text-align: right;\n",
              "    }\n",
              "</style>\n",
              "<table border=\"1\" class=\"dataframe\">\n",
              "  <thead>\n",
              "    <tr style=\"text-align: right;\">\n",
              "      <th></th>\n",
              "      <th>Bash</th>\n",
              "      <th>Excel</th>\n",
              "      <th>Git</th>\n",
              "      <th>Java</th>\n",
              "      <th>JavaScript</th>\n",
              "      <th>PHP</th>\n",
              "      <th>PowerBI or Tableau</th>\n",
              "      <th>Python</th>\n",
              "      <th>R</th>\n",
              "      <th>SQL</th>\n",
              "      <th>VBA</th>\n",
              "      <th>other</th>\n",
              "    </tr>\n",
              "    <tr>\n",
              "      <th>quest_id</th>\n",
              "      <th></th>\n",
              "      <th></th>\n",
              "      <th></th>\n",
              "      <th></th>\n",
              "      <th></th>\n",
              "      <th></th>\n",
              "      <th></th>\n",
              "      <th></th>\n",
              "      <th></th>\n",
              "      <th></th>\n",
              "      <th></th>\n",
              "      <th></th>\n",
              "    </tr>\n",
              "  </thead>\n",
              "  <tbody>\n",
              "    <tr>\n",
              "      <th>905ddcf2-ce95-11eb-9a92-7c67a234f601</th>\n",
              "      <td>0</td>\n",
              "      <td>1</td>\n",
              "      <td>0</td>\n",
              "      <td>0</td>\n",
              "      <td>0</td>\n",
              "      <td>0</td>\n",
              "      <td>0</td>\n",
              "      <td>0</td>\n",
              "      <td>1</td>\n",
              "      <td>0</td>\n",
              "      <td>0</td>\n",
              "      <td>0</td>\n",
              "    </tr>\n",
              "    <tr>\n",
              "      <th>905e2608-ce95-11eb-809f-7c67a234f601</th>\n",
              "      <td>1</td>\n",
              "      <td>1</td>\n",
              "      <td>1</td>\n",
              "      <td>1</td>\n",
              "      <td>1</td>\n",
              "      <td>0</td>\n",
              "      <td>0</td>\n",
              "      <td>1</td>\n",
              "      <td>0</td>\n",
              "      <td>1</td>\n",
              "      <td>0</td>\n",
              "      <td>0</td>\n",
              "    </tr>\n",
              "  </tbody>\n",
              "</table>\n",
              "</div>"
            ],
            "text/plain": [
              "                                      Bash  Excel  Git  ...  SQL  VBA  other\n",
              "quest_id                                                ...                 \n",
              "905ddcf2-ce95-11eb-9a92-7c67a234f601     0      1    0  ...    0    0      0\n",
              "905e2608-ce95-11eb-809f-7c67a234f601     1      1    1  ...    1    0      0\n",
              "\n",
              "[2 rows x 12 columns]"
            ]
          },
          "metadata": {
            "tags": []
          },
          "execution_count": 8
        }
      ]
    },
    {
      "cell_type": "code",
      "metadata": {
        "colab": {
          "base_uri": "https://localhost:8080/"
        },
        "id": "CsD2tA0lOeJG",
        "outputId": "dc96ed9f-cd80-4598-bded-221dd044b4b7"
      },
      "source": [
        "#to remove duplicated values\n",
        "df_industry = pd.get_dummies(data=industry[[\"key\", \"quest_id\", \"values\"]], columns=['values'], prefix=\"\", prefix_sep=\"\")\n",
        "df_industry1 = df_industry.groupby(\"quest_id\").sum()\n",
        "df_industry1.head()\n",
        "print(df_industry1.shape)"
      ],
      "execution_count": 9,
      "outputs": [
        {
          "output_type": "stream",
          "text": [
            "(246, 14)\n"
          ],
          "name": "stdout"
        }
      ]
    },
    {
      "cell_type": "code",
      "metadata": {
        "colab": {
          "base_uri": "https://localhost:8080/",
          "height": 249
        },
        "id": "oZiWwOjEP-yq",
        "outputId": "99c4e29c-696f-44fc-8c08-0996c0784876"
      },
      "source": [
        "quest.head(2)"
      ],
      "execution_count": 10,
      "outputs": [
        {
          "output_type": "execute_result",
          "data": {
            "text/html": [
              "<div>\n",
              "<style scoped>\n",
              "    .dataframe tbody tr th:only-of-type {\n",
              "        vertical-align: middle;\n",
              "    }\n",
              "\n",
              "    .dataframe tbody tr th {\n",
              "        vertical-align: top;\n",
              "    }\n",
              "\n",
              "    .dataframe thead th {\n",
              "        text-align: right;\n",
              "    }\n",
              "</style>\n",
              "<table border=\"1\" class=\"dataframe\">\n",
              "  <thead>\n",
              "    <tr style=\"text-align: right;\">\n",
              "      <th></th>\n",
              "      <th>Unnamed: 0</th>\n",
              "      <th>gender</th>\n",
              "      <th>dob</th>\n",
              "      <th>commune</th>\n",
              "      <th>created_at</th>\n",
              "      <th>modified_at</th>\n",
              "      <th>department</th>\n",
              "      <th>education_level</th>\n",
              "      <th>university</th>\n",
              "      <th>study_domain</th>\n",
              "      <th>current_employed</th>\n",
              "      <th>formal_sector_job</th>\n",
              "      <th>have_computer_home</th>\n",
              "      <th>internet_at_home</th>\n",
              "      <th>hear_AA_1</th>\n",
              "      <th>after_AA</th>\n",
              "      <th>quest_id</th>\n",
              "    </tr>\n",
              "  </thead>\n",
              "  <tbody>\n",
              "    <tr>\n",
              "      <th>0</th>\n",
              "      <td>0</td>\n",
              "      <td>male</td>\n",
              "      <td>25/08/1998</td>\n",
              "      <td>ht0111</td>\n",
              "      <td>2021-02-14T23:03:52.768400Z</td>\n",
              "      <td>2021-02-14T23:03:52.768462Z</td>\n",
              "      <td>NaN</td>\n",
              "      <td>unknown</td>\n",
              "      <td>unknown</td>\n",
              "      <td>[]</td>\n",
              "      <td>unknown</td>\n",
              "      <td>unknown</td>\n",
              "      <td>unknown</td>\n",
              "      <td>unknown</td>\n",
              "      <td>unknown</td>\n",
              "      <td>unknown</td>\n",
              "      <td>905dc006-ce95-11eb-b2f9-7c67a234f601</td>\n",
              "    </tr>\n",
              "    <tr>\n",
              "      <th>1</th>\n",
              "      <td>1</td>\n",
              "      <td>female</td>\n",
              "      <td>29/09/1996</td>\n",
              "      <td>ht0111</td>\n",
              "      <td>2021-02-16T16:01:10.861844Z</td>\n",
              "      <td>2021-02-16T16:01:10.861899Z</td>\n",
              "      <td>ht01</td>\n",
              "      <td>Bachelors (bacc +4)</td>\n",
              "      <td>other</td>\n",
              "      <td>['other']</td>\n",
              "      <td>No</td>\n",
              "      <td>unknown</td>\n",
              "      <td>Yes</td>\n",
              "      <td>Yes</td>\n",
              "      <td>Friend</td>\n",
              "      <td>Finding a job/internship</td>\n",
              "      <td>905ddcf2-ce95-11eb-9a92-7c67a234f601</td>\n",
              "    </tr>\n",
              "  </tbody>\n",
              "</table>\n",
              "</div>"
            ],
            "text/plain": [
              "   Unnamed: 0  ...                              quest_id\n",
              "0           0  ...  905dc006-ce95-11eb-b2f9-7c67a234f601\n",
              "1           1  ...  905ddcf2-ce95-11eb-9a92-7c67a234f601\n",
              "\n",
              "[2 rows x 17 columns]"
            ]
          },
          "metadata": {
            "tags": []
          },
          "execution_count": 10
        }
      ]
    },
    {
      "cell_type": "code",
      "metadata": {
        "colab": {
          "base_uri": "https://localhost:8080/",
          "height": 512
        },
        "id": "KYB07CtLhKRn",
        "outputId": "1929e522-d5a5-48d3-f9f8-57d776f79d39"
      },
      "source": [
        "# to merge quest dataframe with enroll dataframe\n",
        "df_result=pd.merge(left=quest, right=enroll, how = 'left',on='quest_id')\n",
        "df_result.head(5)"
      ],
      "execution_count": 11,
      "outputs": [
        {
          "output_type": "execute_result",
          "data": {
            "text/html": [
              "<div>\n",
              "<style scoped>\n",
              "    .dataframe tbody tr th:only-of-type {\n",
              "        vertical-align: middle;\n",
              "    }\n",
              "\n",
              "    .dataframe tbody tr th {\n",
              "        vertical-align: top;\n",
              "    }\n",
              "\n",
              "    .dataframe thead th {\n",
              "        text-align: right;\n",
              "    }\n",
              "</style>\n",
              "<table border=\"1\" class=\"dataframe\">\n",
              "  <thead>\n",
              "    <tr style=\"text-align: right;\">\n",
              "      <th></th>\n",
              "      <th>Unnamed: 0_x</th>\n",
              "      <th>gender</th>\n",
              "      <th>dob</th>\n",
              "      <th>commune</th>\n",
              "      <th>created_at_x</th>\n",
              "      <th>modified_at</th>\n",
              "      <th>department</th>\n",
              "      <th>education_level</th>\n",
              "      <th>university</th>\n",
              "      <th>study_domain</th>\n",
              "      <th>current_employed</th>\n",
              "      <th>formal_sector_job</th>\n",
              "      <th>have_computer_home</th>\n",
              "      <th>internet_at_home</th>\n",
              "      <th>hear_AA_1</th>\n",
              "      <th>after_AA</th>\n",
              "      <th>quest_id</th>\n",
              "      <th>Unnamed: 0_y</th>\n",
              "      <th>created_at_y</th>\n",
              "      <th>expiry_date</th>\n",
              "      <th>user_id</th>\n",
              "      <th>course_name</th>\n",
              "      <th>course_id</th>\n",
              "      <th>percentage_completed</th>\n",
              "      <th>completed_at</th>\n",
              "      <th>expired</th>\n",
              "      <th>is_free_trial</th>\n",
              "      <th>completed</th>\n",
              "      <th>started_at</th>\n",
              "      <th>activated_at</th>\n",
              "      <th>updated_at</th>\n",
              "    </tr>\n",
              "  </thead>\n",
              "  <tbody>\n",
              "    <tr>\n",
              "      <th>0</th>\n",
              "      <td>0</td>\n",
              "      <td>male</td>\n",
              "      <td>25/08/1998</td>\n",
              "      <td>ht0111</td>\n",
              "      <td>2021-02-14T23:03:52.768400Z</td>\n",
              "      <td>2021-02-14T23:03:52.768462Z</td>\n",
              "      <td>NaN</td>\n",
              "      <td>unknown</td>\n",
              "      <td>unknown</td>\n",
              "      <td>[]</td>\n",
              "      <td>unknown</td>\n",
              "      <td>unknown</td>\n",
              "      <td>unknown</td>\n",
              "      <td>unknown</td>\n",
              "      <td>unknown</td>\n",
              "      <td>unknown</td>\n",
              "      <td>905dc006-ce95-11eb-b2f9-7c67a234f601</td>\n",
              "      <td>17.0</td>\n",
              "      <td>2021-02-14T23:15:19.500Z</td>\n",
              "      <td>NaN</td>\n",
              "      <td>39726355.0</td>\n",
              "      <td>Entwodiksyon Nan Syans Done</td>\n",
              "      <td>1047613.0</td>\n",
              "      <td>0.000000</td>\n",
              "      <td>NaN</td>\n",
              "      <td>False</td>\n",
              "      <td>True</td>\n",
              "      <td>False</td>\n",
              "      <td>2021-02-17T08:43:53.457Z</td>\n",
              "      <td>NaN</td>\n",
              "      <td>2021-02-17T08:44:09.561Z</td>\n",
              "    </tr>\n",
              "    <tr>\n",
              "      <th>1</th>\n",
              "      <td>1</td>\n",
              "      <td>female</td>\n",
              "      <td>29/09/1996</td>\n",
              "      <td>ht0111</td>\n",
              "      <td>2021-02-16T16:01:10.861844Z</td>\n",
              "      <td>2021-02-16T16:01:10.861899Z</td>\n",
              "      <td>ht01</td>\n",
              "      <td>Bachelors (bacc +4)</td>\n",
              "      <td>other</td>\n",
              "      <td>['other']</td>\n",
              "      <td>No</td>\n",
              "      <td>unknown</td>\n",
              "      <td>Yes</td>\n",
              "      <td>Yes</td>\n",
              "      <td>Friend</td>\n",
              "      <td>Finding a job/internship</td>\n",
              "      <td>905ddcf2-ce95-11eb-9a92-7c67a234f601</td>\n",
              "      <td>NaN</td>\n",
              "      <td>NaN</td>\n",
              "      <td>NaN</td>\n",
              "      <td>NaN</td>\n",
              "      <td>NaN</td>\n",
              "      <td>NaN</td>\n",
              "      <td>NaN</td>\n",
              "      <td>NaN</td>\n",
              "      <td>NaN</td>\n",
              "      <td>NaN</td>\n",
              "      <td>NaN</td>\n",
              "      <td>NaN</td>\n",
              "      <td>NaN</td>\n",
              "      <td>NaN</td>\n",
              "    </tr>\n",
              "    <tr>\n",
              "      <th>2</th>\n",
              "      <td>2</td>\n",
              "      <td>male</td>\n",
              "      <td>17/05/1996</td>\n",
              "      <td>ht0111</td>\n",
              "      <td>2021-02-16T16:56:30.579504Z</td>\n",
              "      <td>2021-02-16T16:56:30.579563Z</td>\n",
              "      <td>ht01</td>\n",
              "      <td>Bachelors (bacc +4)</td>\n",
              "      <td>Université d'Etat d'Haïti (UEH)</td>\n",
              "      <td>[]</td>\n",
              "      <td>No</td>\n",
              "      <td>unknown</td>\n",
              "      <td>Yes</td>\n",
              "      <td>Yes</td>\n",
              "      <td>Friend</td>\n",
              "      <td>Improving my data analysis skills</td>\n",
              "      <td>905e2608-ce95-11eb-809f-7c67a234f601</td>\n",
              "      <td>67.0</td>\n",
              "      <td>2021-02-20T21:20:37.450Z</td>\n",
              "      <td>2071-02-19T23:00:15.000Z</td>\n",
              "      <td>40117659.0</td>\n",
              "      <td>Entwodiksyon Nan Syans Done</td>\n",
              "      <td>1047613.0</td>\n",
              "      <td>0.325581</td>\n",
              "      <td>NaN</td>\n",
              "      <td>False</td>\n",
              "      <td>False</td>\n",
              "      <td>False</td>\n",
              "      <td>2021-02-20T21:20:37.814Z</td>\n",
              "      <td>2021-03-03T23:00:11.000Z</td>\n",
              "      <td>2021-03-09T13:57:49.729Z</td>\n",
              "    </tr>\n",
              "    <tr>\n",
              "      <th>3</th>\n",
              "      <td>3</td>\n",
              "      <td>male</td>\n",
              "      <td>24/11/1996</td>\n",
              "      <td>ht0111</td>\n",
              "      <td>2021-02-16T16:57:55.754541Z</td>\n",
              "      <td>2021-02-16T16:57:55.754582Z</td>\n",
              "      <td>ht01</td>\n",
              "      <td>Bachelors (bacc +4)</td>\n",
              "      <td>Ecole Supérieure d'Infotronique d'Haïti (ESIH)</td>\n",
              "      <td>['item1', 'item6']</td>\n",
              "      <td>No</td>\n",
              "      <td>unknown</td>\n",
              "      <td>Yes</td>\n",
              "      <td>Yes</td>\n",
              "      <td>ESIH</td>\n",
              "      <td>Improving my data analysis skills</td>\n",
              "      <td>905e4cf5-ce95-11eb-96a9-7c67a234f601</td>\n",
              "      <td>NaN</td>\n",
              "      <td>NaN</td>\n",
              "      <td>NaN</td>\n",
              "      <td>NaN</td>\n",
              "      <td>NaN</td>\n",
              "      <td>NaN</td>\n",
              "      <td>NaN</td>\n",
              "      <td>NaN</td>\n",
              "      <td>NaN</td>\n",
              "      <td>NaN</td>\n",
              "      <td>NaN</td>\n",
              "      <td>NaN</td>\n",
              "      <td>NaN</td>\n",
              "      <td>NaN</td>\n",
              "    </tr>\n",
              "    <tr>\n",
              "      <th>4</th>\n",
              "      <td>4</td>\n",
              "      <td>male</td>\n",
              "      <td>20/07/1997</td>\n",
              "      <td>ht0111</td>\n",
              "      <td>2021-02-16T17:05:40.907948Z</td>\n",
              "      <td>2021-02-16T17:05:40.907982Z</td>\n",
              "      <td>ht01</td>\n",
              "      <td>High School (16 years)</td>\n",
              "      <td>unknown</td>\n",
              "      <td>['other']</td>\n",
              "      <td>No</td>\n",
              "      <td>unknown</td>\n",
              "      <td>Yes</td>\n",
              "      <td>Yes</td>\n",
              "      <td>WhatsApp</td>\n",
              "      <td>Mentorship</td>\n",
              "      <td>905e73fd-ce95-11eb-a7b0-7c67a234f601</td>\n",
              "      <td>NaN</td>\n",
              "      <td>NaN</td>\n",
              "      <td>NaN</td>\n",
              "      <td>NaN</td>\n",
              "      <td>NaN</td>\n",
              "      <td>NaN</td>\n",
              "      <td>NaN</td>\n",
              "      <td>NaN</td>\n",
              "      <td>NaN</td>\n",
              "      <td>NaN</td>\n",
              "      <td>NaN</td>\n",
              "      <td>NaN</td>\n",
              "      <td>NaN</td>\n",
              "      <td>NaN</td>\n",
              "    </tr>\n",
              "  </tbody>\n",
              "</table>\n",
              "</div>"
            ],
            "text/plain": [
              "   Unnamed: 0_x  gender  ...              activated_at                updated_at\n",
              "0             0    male  ...                       NaN  2021-02-17T08:44:09.561Z\n",
              "1             1  female  ...                       NaN                       NaN\n",
              "2             2    male  ...  2021-03-03T23:00:11.000Z  2021-03-09T13:57:49.729Z\n",
              "3             3    male  ...                       NaN                       NaN\n",
              "4             4    male  ...                       NaN                       NaN\n",
              "\n",
              "[5 rows x 31 columns]"
            ]
          },
          "metadata": {
            "tags": []
          },
          "execution_count": 11
        }
      ]
    },
    {
      "cell_type": "code",
      "metadata": {
        "colab": {
          "base_uri": "https://localhost:8080/",
          "height": 301
        },
        "id": "_22p-FrNimrn",
        "outputId": "101d58e8-bc80-4cb5-8d12-3d08488b4756"
      },
      "source": [
        "# to merge two dataframes by left method\n",
        "df_result1=pd.merge(left=df_result, right=df_study_domain1, how = 'left',on='quest_id')\n",
        "df_result2=pd.merge(left=df_result1, right=df_technology1, how = 'left',on='quest_id')\n",
        "df_result3=pd.merge(left=df_result2, right=df_industry1, how = 'left',on='quest_id')\n",
        "df_result3.head(2)"
      ],
      "execution_count": 12,
      "outputs": [
        {
          "output_type": "execute_result",
          "data": {
            "text/html": [
              "<div>\n",
              "<style scoped>\n",
              "    .dataframe tbody tr th:only-of-type {\n",
              "        vertical-align: middle;\n",
              "    }\n",
              "\n",
              "    .dataframe tbody tr th {\n",
              "        vertical-align: top;\n",
              "    }\n",
              "\n",
              "    .dataframe thead th {\n",
              "        text-align: right;\n",
              "    }\n",
              "</style>\n",
              "<table border=\"1\" class=\"dataframe\">\n",
              "  <thead>\n",
              "    <tr style=\"text-align: right;\">\n",
              "      <th></th>\n",
              "      <th>Unnamed: 0_x</th>\n",
              "      <th>gender</th>\n",
              "      <th>dob</th>\n",
              "      <th>commune</th>\n",
              "      <th>created_at_x</th>\n",
              "      <th>modified_at</th>\n",
              "      <th>department</th>\n",
              "      <th>education_level</th>\n",
              "      <th>university</th>\n",
              "      <th>study_domain</th>\n",
              "      <th>current_employed</th>\n",
              "      <th>formal_sector_job</th>\n",
              "      <th>have_computer_home</th>\n",
              "      <th>internet_at_home</th>\n",
              "      <th>hear_AA_1</th>\n",
              "      <th>after_AA</th>\n",
              "      <th>quest_id</th>\n",
              "      <th>Unnamed: 0_y</th>\n",
              "      <th>created_at_y</th>\n",
              "      <th>expiry_date</th>\n",
              "      <th>user_id</th>\n",
              "      <th>course_name</th>\n",
              "      <th>course_id</th>\n",
              "      <th>percentage_completed</th>\n",
              "      <th>completed_at</th>\n",
              "      <th>expired</th>\n",
              "      <th>is_free_trial</th>\n",
              "      <th>completed</th>\n",
              "      <th>started_at</th>\n",
              "      <th>activated_at</th>\n",
              "      <th>updated_at</th>\n",
              "      <th>Accounting</th>\n",
              "      <th>Computer Science</th>\n",
              "      <th>Economics</th>\n",
              "      <th>Electrical Engineering</th>\n",
              "      <th>Law</th>\n",
              "      <th>Management</th>\n",
              "      <th>Medicine</th>\n",
              "      <th>Statistics</th>\n",
              "      <th>other_x</th>\n",
              "      <th>Bash</th>\n",
              "      <th>Excel</th>\n",
              "      <th>Git</th>\n",
              "      <th>Java</th>\n",
              "      <th>JavaScript</th>\n",
              "      <th>PHP</th>\n",
              "      <th>PowerBI or Tableau</th>\n",
              "      <th>Python</th>\n",
              "      <th>R</th>\n",
              "      <th>SQL</th>\n",
              "      <th>VBA</th>\n",
              "      <th>other_y</th>\n",
              "      <th>Communications</th>\n",
              "      <th>Consulting</th>\n",
              "      <th>Education</th>\n",
              "      <th>Energy</th>\n",
              "      <th>Finance</th>\n",
              "      <th>Healthcare</th>\n",
              "      <th>Insurance</th>\n",
              "      <th>Manufacturing</th>\n",
              "      <th>Marketing</th>\n",
              "      <th>Public Sector/ Non-Profit Agencies</th>\n",
              "      <th>Retail/ E-Commerce</th>\n",
              "      <th>Technology (Software/ Internet)</th>\n",
              "      <th>Transportation</th>\n",
              "      <th>other</th>\n",
              "    </tr>\n",
              "  </thead>\n",
              "  <tbody>\n",
              "    <tr>\n",
              "      <th>0</th>\n",
              "      <td>0</td>\n",
              "      <td>male</td>\n",
              "      <td>25/08/1998</td>\n",
              "      <td>ht0111</td>\n",
              "      <td>2021-02-14T23:03:52.768400Z</td>\n",
              "      <td>2021-02-14T23:03:52.768462Z</td>\n",
              "      <td>NaN</td>\n",
              "      <td>unknown</td>\n",
              "      <td>unknown</td>\n",
              "      <td>[]</td>\n",
              "      <td>unknown</td>\n",
              "      <td>unknown</td>\n",
              "      <td>unknown</td>\n",
              "      <td>unknown</td>\n",
              "      <td>unknown</td>\n",
              "      <td>unknown</td>\n",
              "      <td>905dc006-ce95-11eb-b2f9-7c67a234f601</td>\n",
              "      <td>17.0</td>\n",
              "      <td>2021-02-14T23:15:19.500Z</td>\n",
              "      <td>NaN</td>\n",
              "      <td>39726355.0</td>\n",
              "      <td>Entwodiksyon Nan Syans Done</td>\n",
              "      <td>1047613.0</td>\n",
              "      <td>0.0</td>\n",
              "      <td>NaN</td>\n",
              "      <td>False</td>\n",
              "      <td>True</td>\n",
              "      <td>False</td>\n",
              "      <td>2021-02-17T08:43:53.457Z</td>\n",
              "      <td>NaN</td>\n",
              "      <td>2021-02-17T08:44:09.561Z</td>\n",
              "      <td>NaN</td>\n",
              "      <td>NaN</td>\n",
              "      <td>NaN</td>\n",
              "      <td>NaN</td>\n",
              "      <td>NaN</td>\n",
              "      <td>NaN</td>\n",
              "      <td>NaN</td>\n",
              "      <td>NaN</td>\n",
              "      <td>NaN</td>\n",
              "      <td>NaN</td>\n",
              "      <td>NaN</td>\n",
              "      <td>NaN</td>\n",
              "      <td>NaN</td>\n",
              "      <td>NaN</td>\n",
              "      <td>NaN</td>\n",
              "      <td>NaN</td>\n",
              "      <td>NaN</td>\n",
              "      <td>NaN</td>\n",
              "      <td>NaN</td>\n",
              "      <td>NaN</td>\n",
              "      <td>NaN</td>\n",
              "      <td>NaN</td>\n",
              "      <td>NaN</td>\n",
              "      <td>NaN</td>\n",
              "      <td>NaN</td>\n",
              "      <td>NaN</td>\n",
              "      <td>NaN</td>\n",
              "      <td>NaN</td>\n",
              "      <td>NaN</td>\n",
              "      <td>NaN</td>\n",
              "      <td>NaN</td>\n",
              "      <td>NaN</td>\n",
              "      <td>NaN</td>\n",
              "      <td>NaN</td>\n",
              "      <td>NaN</td>\n",
              "    </tr>\n",
              "    <tr>\n",
              "      <th>1</th>\n",
              "      <td>1</td>\n",
              "      <td>female</td>\n",
              "      <td>29/09/1996</td>\n",
              "      <td>ht0111</td>\n",
              "      <td>2021-02-16T16:01:10.861844Z</td>\n",
              "      <td>2021-02-16T16:01:10.861899Z</td>\n",
              "      <td>ht01</td>\n",
              "      <td>Bachelors (bacc +4)</td>\n",
              "      <td>other</td>\n",
              "      <td>['other']</td>\n",
              "      <td>No</td>\n",
              "      <td>unknown</td>\n",
              "      <td>Yes</td>\n",
              "      <td>Yes</td>\n",
              "      <td>Friend</td>\n",
              "      <td>Finding a job/internship</td>\n",
              "      <td>905ddcf2-ce95-11eb-9a92-7c67a234f601</td>\n",
              "      <td>NaN</td>\n",
              "      <td>NaN</td>\n",
              "      <td>NaN</td>\n",
              "      <td>NaN</td>\n",
              "      <td>NaN</td>\n",
              "      <td>NaN</td>\n",
              "      <td>NaN</td>\n",
              "      <td>NaN</td>\n",
              "      <td>NaN</td>\n",
              "      <td>NaN</td>\n",
              "      <td>NaN</td>\n",
              "      <td>NaN</td>\n",
              "      <td>NaN</td>\n",
              "      <td>NaN</td>\n",
              "      <td>0.0</td>\n",
              "      <td>0.0</td>\n",
              "      <td>0.0</td>\n",
              "      <td>0.0</td>\n",
              "      <td>0.0</td>\n",
              "      <td>0.0</td>\n",
              "      <td>0.0</td>\n",
              "      <td>0.0</td>\n",
              "      <td>1.0</td>\n",
              "      <td>0.0</td>\n",
              "      <td>1.0</td>\n",
              "      <td>0.0</td>\n",
              "      <td>0.0</td>\n",
              "      <td>0.0</td>\n",
              "      <td>0.0</td>\n",
              "      <td>0.0</td>\n",
              "      <td>0.0</td>\n",
              "      <td>1.0</td>\n",
              "      <td>0.0</td>\n",
              "      <td>0.0</td>\n",
              "      <td>0.0</td>\n",
              "      <td>0.0</td>\n",
              "      <td>0.0</td>\n",
              "      <td>0.0</td>\n",
              "      <td>0.0</td>\n",
              "      <td>1.0</td>\n",
              "      <td>0.0</td>\n",
              "      <td>0.0</td>\n",
              "      <td>0.0</td>\n",
              "      <td>0.0</td>\n",
              "      <td>0.0</td>\n",
              "      <td>0.0</td>\n",
              "      <td>0.0</td>\n",
              "      <td>0.0</td>\n",
              "      <td>0.0</td>\n",
              "    </tr>\n",
              "  </tbody>\n",
              "</table>\n",
              "</div>"
            ],
            "text/plain": [
              "   Unnamed: 0_x  gender  ... Transportation other\n",
              "0             0    male  ...            NaN   NaN\n",
              "1             1  female  ...            0.0   0.0\n",
              "\n",
              "[2 rows x 66 columns]"
            ]
          },
          "metadata": {
            "tags": []
          },
          "execution_count": 12
        }
      ]
    },
    {
      "cell_type": "code",
      "metadata": {
        "colab": {
          "base_uri": "https://localhost:8080/",
          "height": 108
        },
        "id": "aPcPpz-emEdx",
        "outputId": "34e4857e-eca5-4b9c-c9f1-2a940fe25975"
      },
      "source": [
        "#select commune_id column and transform it to sting lower \n",
        "commune[\"Commune_Id\"] = commune[\"Commune_Id\"].str.lower()\n",
        "commune[\"ADM1_PCODE\"] = commune[\"ADM1_PCODE\"].str.lower()\n",
        "commune.head(2)"
      ],
      "execution_count": 13,
      "outputs": [
        {
          "output_type": "execute_result",
          "data": {
            "text/html": [
              "<div>\n",
              "<style scoped>\n",
              "    .dataframe tbody tr th:only-of-type {\n",
              "        vertical-align: middle;\n",
              "    }\n",
              "\n",
              "    .dataframe tbody tr th {\n",
              "        vertical-align: top;\n",
              "    }\n",
              "\n",
              "    .dataframe thead th {\n",
              "        text-align: right;\n",
              "    }\n",
              "</style>\n",
              "<table border=\"1\" class=\"dataframe\">\n",
              "  <thead>\n",
              "    <tr style=\"text-align: right;\">\n",
              "      <th></th>\n",
              "      <th>Commune_en</th>\n",
              "      <th>Commune_FR</th>\n",
              "      <th>Commune_Id</th>\n",
              "      <th>Departement</th>\n",
              "      <th>ADM1_PCODE</th>\n",
              "    </tr>\n",
              "  </thead>\n",
              "  <tbody>\n",
              "    <tr>\n",
              "      <th>0</th>\n",
              "      <td>Abricots</td>\n",
              "      <td>Abricots</td>\n",
              "      <td>ht0812</td>\n",
              "      <td>Grande'Anse</td>\n",
              "      <td>ht08</td>\n",
              "    </tr>\n",
              "    <tr>\n",
              "      <th>1</th>\n",
              "      <td>Acul du Nord</td>\n",
              "      <td>Acul du Nord</td>\n",
              "      <td>ht0321</td>\n",
              "      <td>North</td>\n",
              "      <td>ht03</td>\n",
              "    </tr>\n",
              "  </tbody>\n",
              "</table>\n",
              "</div>"
            ],
            "text/plain": [
              "     Commune_en    Commune_FR Commune_Id  Departement ADM1_PCODE\n",
              "0      Abricots      Abricots     ht0812  Grande'Anse       ht08\n",
              "1  Acul du Nord  Acul du Nord     ht0321        North       ht03"
            ]
          },
          "metadata": {
            "tags": []
          },
          "execution_count": 13
        }
      ]
    },
    {
      "cell_type": "code",
      "metadata": {
        "colab": {
          "base_uri": "https://localhost:8080/",
          "height": 108
        },
        "id": "Gm2iWM4vBFeT",
        "outputId": "8bff3428-3228-4842-e600-d142815b796c"
      },
      "source": [
        "# Give another name to the Comune_id column\n",
        "commune.rename(columns = {\"Commune_Id\": \"commune\"}, inplace = True)\n",
        "commune.head(2)"
      ],
      "execution_count": 14,
      "outputs": [
        {
          "output_type": "execute_result",
          "data": {
            "text/html": [
              "<div>\n",
              "<style scoped>\n",
              "    .dataframe tbody tr th:only-of-type {\n",
              "        vertical-align: middle;\n",
              "    }\n",
              "\n",
              "    .dataframe tbody tr th {\n",
              "        vertical-align: top;\n",
              "    }\n",
              "\n",
              "    .dataframe thead th {\n",
              "        text-align: right;\n",
              "    }\n",
              "</style>\n",
              "<table border=\"1\" class=\"dataframe\">\n",
              "  <thead>\n",
              "    <tr style=\"text-align: right;\">\n",
              "      <th></th>\n",
              "      <th>Commune_en</th>\n",
              "      <th>Commune_FR</th>\n",
              "      <th>commune</th>\n",
              "      <th>Departement</th>\n",
              "      <th>ADM1_PCODE</th>\n",
              "    </tr>\n",
              "  </thead>\n",
              "  <tbody>\n",
              "    <tr>\n",
              "      <th>0</th>\n",
              "      <td>Abricots</td>\n",
              "      <td>Abricots</td>\n",
              "      <td>ht0812</td>\n",
              "      <td>Grande'Anse</td>\n",
              "      <td>ht08</td>\n",
              "    </tr>\n",
              "    <tr>\n",
              "      <th>1</th>\n",
              "      <td>Acul du Nord</td>\n",
              "      <td>Acul du Nord</td>\n",
              "      <td>ht0321</td>\n",
              "      <td>North</td>\n",
              "      <td>ht03</td>\n",
              "    </tr>\n",
              "  </tbody>\n",
              "</table>\n",
              "</div>"
            ],
            "text/plain": [
              "     Commune_en    Commune_FR commune  Departement ADM1_PCODE\n",
              "0      Abricots      Abricots  ht0812  Grande'Anse       ht08\n",
              "1  Acul du Nord  Acul du Nord  ht0321        North       ht03"
            ]
          },
          "metadata": {
            "tags": []
          },
          "execution_count": 14
        }
      ]
    },
    {
      "cell_type": "code",
      "metadata": {
        "colab": {
          "base_uri": "https://localhost:8080/",
          "height": 301
        },
        "id": "Eu4bE4o4TsKe",
        "outputId": "0099765c-cdc9-43d0-b490-2a37fd84ba2e"
      },
      "source": [
        "# Merge df_result3 dataframe to the commune dataframe and taking only three columns\n",
        "df_result4=pd.merge(left=df_result3, right=commune[[\"Commune_FR\",\"Departement\", \"commune\"]], how = 'left',on='commune')\n",
        "df_result4.head(2)"
      ],
      "execution_count": 15,
      "outputs": [
        {
          "output_type": "execute_result",
          "data": {
            "text/html": [
              "<div>\n",
              "<style scoped>\n",
              "    .dataframe tbody tr th:only-of-type {\n",
              "        vertical-align: middle;\n",
              "    }\n",
              "\n",
              "    .dataframe tbody tr th {\n",
              "        vertical-align: top;\n",
              "    }\n",
              "\n",
              "    .dataframe thead th {\n",
              "        text-align: right;\n",
              "    }\n",
              "</style>\n",
              "<table border=\"1\" class=\"dataframe\">\n",
              "  <thead>\n",
              "    <tr style=\"text-align: right;\">\n",
              "      <th></th>\n",
              "      <th>Unnamed: 0_x</th>\n",
              "      <th>gender</th>\n",
              "      <th>dob</th>\n",
              "      <th>commune</th>\n",
              "      <th>created_at_x</th>\n",
              "      <th>modified_at</th>\n",
              "      <th>department</th>\n",
              "      <th>education_level</th>\n",
              "      <th>university</th>\n",
              "      <th>study_domain</th>\n",
              "      <th>current_employed</th>\n",
              "      <th>formal_sector_job</th>\n",
              "      <th>have_computer_home</th>\n",
              "      <th>internet_at_home</th>\n",
              "      <th>hear_AA_1</th>\n",
              "      <th>after_AA</th>\n",
              "      <th>quest_id</th>\n",
              "      <th>Unnamed: 0_y</th>\n",
              "      <th>created_at_y</th>\n",
              "      <th>expiry_date</th>\n",
              "      <th>user_id</th>\n",
              "      <th>course_name</th>\n",
              "      <th>course_id</th>\n",
              "      <th>percentage_completed</th>\n",
              "      <th>completed_at</th>\n",
              "      <th>expired</th>\n",
              "      <th>is_free_trial</th>\n",
              "      <th>completed</th>\n",
              "      <th>started_at</th>\n",
              "      <th>activated_at</th>\n",
              "      <th>updated_at</th>\n",
              "      <th>Accounting</th>\n",
              "      <th>Computer Science</th>\n",
              "      <th>Economics</th>\n",
              "      <th>Electrical Engineering</th>\n",
              "      <th>Law</th>\n",
              "      <th>Management</th>\n",
              "      <th>Medicine</th>\n",
              "      <th>Statistics</th>\n",
              "      <th>other_x</th>\n",
              "      <th>Bash</th>\n",
              "      <th>Excel</th>\n",
              "      <th>Git</th>\n",
              "      <th>Java</th>\n",
              "      <th>JavaScript</th>\n",
              "      <th>PHP</th>\n",
              "      <th>PowerBI or Tableau</th>\n",
              "      <th>Python</th>\n",
              "      <th>R</th>\n",
              "      <th>SQL</th>\n",
              "      <th>VBA</th>\n",
              "      <th>other_y</th>\n",
              "      <th>Communications</th>\n",
              "      <th>Consulting</th>\n",
              "      <th>Education</th>\n",
              "      <th>Energy</th>\n",
              "      <th>Finance</th>\n",
              "      <th>Healthcare</th>\n",
              "      <th>Insurance</th>\n",
              "      <th>Manufacturing</th>\n",
              "      <th>Marketing</th>\n",
              "      <th>Public Sector/ Non-Profit Agencies</th>\n",
              "      <th>Retail/ E-Commerce</th>\n",
              "      <th>Technology (Software/ Internet)</th>\n",
              "      <th>Transportation</th>\n",
              "      <th>other</th>\n",
              "      <th>Commune_FR</th>\n",
              "      <th>Departement</th>\n",
              "    </tr>\n",
              "  </thead>\n",
              "  <tbody>\n",
              "    <tr>\n",
              "      <th>0</th>\n",
              "      <td>0</td>\n",
              "      <td>male</td>\n",
              "      <td>25/08/1998</td>\n",
              "      <td>ht0111</td>\n",
              "      <td>2021-02-14T23:03:52.768400Z</td>\n",
              "      <td>2021-02-14T23:03:52.768462Z</td>\n",
              "      <td>NaN</td>\n",
              "      <td>unknown</td>\n",
              "      <td>unknown</td>\n",
              "      <td>[]</td>\n",
              "      <td>unknown</td>\n",
              "      <td>unknown</td>\n",
              "      <td>unknown</td>\n",
              "      <td>unknown</td>\n",
              "      <td>unknown</td>\n",
              "      <td>unknown</td>\n",
              "      <td>905dc006-ce95-11eb-b2f9-7c67a234f601</td>\n",
              "      <td>17.0</td>\n",
              "      <td>2021-02-14T23:15:19.500Z</td>\n",
              "      <td>NaN</td>\n",
              "      <td>39726355.0</td>\n",
              "      <td>Entwodiksyon Nan Syans Done</td>\n",
              "      <td>1047613.0</td>\n",
              "      <td>0.0</td>\n",
              "      <td>NaN</td>\n",
              "      <td>False</td>\n",
              "      <td>True</td>\n",
              "      <td>False</td>\n",
              "      <td>2021-02-17T08:43:53.457Z</td>\n",
              "      <td>NaN</td>\n",
              "      <td>2021-02-17T08:44:09.561Z</td>\n",
              "      <td>NaN</td>\n",
              "      <td>NaN</td>\n",
              "      <td>NaN</td>\n",
              "      <td>NaN</td>\n",
              "      <td>NaN</td>\n",
              "      <td>NaN</td>\n",
              "      <td>NaN</td>\n",
              "      <td>NaN</td>\n",
              "      <td>NaN</td>\n",
              "      <td>NaN</td>\n",
              "      <td>NaN</td>\n",
              "      <td>NaN</td>\n",
              "      <td>NaN</td>\n",
              "      <td>NaN</td>\n",
              "      <td>NaN</td>\n",
              "      <td>NaN</td>\n",
              "      <td>NaN</td>\n",
              "      <td>NaN</td>\n",
              "      <td>NaN</td>\n",
              "      <td>NaN</td>\n",
              "      <td>NaN</td>\n",
              "      <td>NaN</td>\n",
              "      <td>NaN</td>\n",
              "      <td>NaN</td>\n",
              "      <td>NaN</td>\n",
              "      <td>NaN</td>\n",
              "      <td>NaN</td>\n",
              "      <td>NaN</td>\n",
              "      <td>NaN</td>\n",
              "      <td>NaN</td>\n",
              "      <td>NaN</td>\n",
              "      <td>NaN</td>\n",
              "      <td>NaN</td>\n",
              "      <td>NaN</td>\n",
              "      <td>NaN</td>\n",
              "      <td>Port-au-Prince</td>\n",
              "      <td>West</td>\n",
              "    </tr>\n",
              "    <tr>\n",
              "      <th>1</th>\n",
              "      <td>1</td>\n",
              "      <td>female</td>\n",
              "      <td>29/09/1996</td>\n",
              "      <td>ht0111</td>\n",
              "      <td>2021-02-16T16:01:10.861844Z</td>\n",
              "      <td>2021-02-16T16:01:10.861899Z</td>\n",
              "      <td>ht01</td>\n",
              "      <td>Bachelors (bacc +4)</td>\n",
              "      <td>other</td>\n",
              "      <td>['other']</td>\n",
              "      <td>No</td>\n",
              "      <td>unknown</td>\n",
              "      <td>Yes</td>\n",
              "      <td>Yes</td>\n",
              "      <td>Friend</td>\n",
              "      <td>Finding a job/internship</td>\n",
              "      <td>905ddcf2-ce95-11eb-9a92-7c67a234f601</td>\n",
              "      <td>NaN</td>\n",
              "      <td>NaN</td>\n",
              "      <td>NaN</td>\n",
              "      <td>NaN</td>\n",
              "      <td>NaN</td>\n",
              "      <td>NaN</td>\n",
              "      <td>NaN</td>\n",
              "      <td>NaN</td>\n",
              "      <td>NaN</td>\n",
              "      <td>NaN</td>\n",
              "      <td>NaN</td>\n",
              "      <td>NaN</td>\n",
              "      <td>NaN</td>\n",
              "      <td>NaN</td>\n",
              "      <td>0.0</td>\n",
              "      <td>0.0</td>\n",
              "      <td>0.0</td>\n",
              "      <td>0.0</td>\n",
              "      <td>0.0</td>\n",
              "      <td>0.0</td>\n",
              "      <td>0.0</td>\n",
              "      <td>0.0</td>\n",
              "      <td>1.0</td>\n",
              "      <td>0.0</td>\n",
              "      <td>1.0</td>\n",
              "      <td>0.0</td>\n",
              "      <td>0.0</td>\n",
              "      <td>0.0</td>\n",
              "      <td>0.0</td>\n",
              "      <td>0.0</td>\n",
              "      <td>0.0</td>\n",
              "      <td>1.0</td>\n",
              "      <td>0.0</td>\n",
              "      <td>0.0</td>\n",
              "      <td>0.0</td>\n",
              "      <td>0.0</td>\n",
              "      <td>0.0</td>\n",
              "      <td>0.0</td>\n",
              "      <td>0.0</td>\n",
              "      <td>1.0</td>\n",
              "      <td>0.0</td>\n",
              "      <td>0.0</td>\n",
              "      <td>0.0</td>\n",
              "      <td>0.0</td>\n",
              "      <td>0.0</td>\n",
              "      <td>0.0</td>\n",
              "      <td>0.0</td>\n",
              "      <td>0.0</td>\n",
              "      <td>0.0</td>\n",
              "      <td>Port-au-Prince</td>\n",
              "      <td>West</td>\n",
              "    </tr>\n",
              "  </tbody>\n",
              "</table>\n",
              "</div>"
            ],
            "text/plain": [
              "   Unnamed: 0_x  gender         dob  ... other      Commune_FR Departement\n",
              "0             0    male  25/08/1998  ...   NaN  Port-au-Prince        West\n",
              "1             1  female  29/09/1996  ...   0.0  Port-au-Prince        West\n",
              "\n",
              "[2 rows x 68 columns]"
            ]
          },
          "metadata": {
            "tags": []
          },
          "execution_count": 15
        }
      ]
    },
    {
      "cell_type": "code",
      "metadata": {
        "id": "qMiBISKLqKgS"
      },
      "source": [
        "# delete the ten last string in the created_at_x column\n",
        "df_result4[\"created_at_x\"] = df_result4[\"created_at_x\"].str[:10]\n"
      ],
      "execution_count": 16,
      "outputs": []
    },
    {
      "cell_type": "code",
      "metadata": {
        "colab": {
          "base_uri": "https://localhost:8080/",
          "height": 249
        },
        "id": "DCY1sV8B9FVs",
        "outputId": "0a450e85-8f60-409b-f950-ccc933aa81ab"
      },
      "source": [
        "# display two lines in the ord dataframe\n",
        "ord.head(2)"
      ],
      "execution_count": 17,
      "outputs": [
        {
          "output_type": "execute_result",
          "data": {
            "text/html": [
              "<div>\n",
              "<style scoped>\n",
              "    .dataframe tbody tr th:only-of-type {\n",
              "        vertical-align: middle;\n",
              "    }\n",
              "\n",
              "    .dataframe tbody tr th {\n",
              "        vertical-align: top;\n",
              "    }\n",
              "\n",
              "    .dataframe thead th {\n",
              "        text-align: right;\n",
              "    }\n",
              "</style>\n",
              "<table border=\"1\" class=\"dataframe\">\n",
              "  <thead>\n",
              "    <tr style=\"text-align: right;\">\n",
              "      <th></th>\n",
              "      <th>Unnamed: 0</th>\n",
              "      <th>created_at</th>\n",
              "      <th>user_id</th>\n",
              "      <th>product_name</th>\n",
              "      <th>product_id</th>\n",
              "      <th>amount_dollars</th>\n",
              "      <th>amount_cents</th>\n",
              "      <th>subscription</th>\n",
              "      <th>coupon_code</th>\n",
              "      <th>coupon_id</th>\n",
              "      <th>affiliate_referral_code</th>\n",
              "      <th>status</th>\n",
              "      <th>quest_id</th>\n",
              "    </tr>\n",
              "  </thead>\n",
              "  <tbody>\n",
              "    <tr>\n",
              "      <th>0</th>\n",
              "      <td>0</td>\n",
              "      <td>2021-03-14T15:34:35.014Z</td>\n",
              "      <td>41587952</td>\n",
              "      <td>Entwodiksyon Nan Syans Done</td>\n",
              "      <td>1100636</td>\n",
              "      <td>20</td>\n",
              "      <td>2000</td>\n",
              "      <td>False</td>\n",
              "      <td>NaN</td>\n",
              "      <td>NaN</td>\n",
              "      <td>NaN</td>\n",
              "      <td>Complete</td>\n",
              "      <td>906b3c86-ce95-11eb-b6a7-7c67a234f601</td>\n",
              "    </tr>\n",
              "    <tr>\n",
              "      <th>1</th>\n",
              "      <td>1</td>\n",
              "      <td>2021-03-14T04:20:23.483Z</td>\n",
              "      <td>41564742</td>\n",
              "      <td>Entwodiksyon Nan Syans Done</td>\n",
              "      <td>1100636</td>\n",
              "      <td>20</td>\n",
              "      <td>2000</td>\n",
              "      <td>False</td>\n",
              "      <td>NaN</td>\n",
              "      <td>NaN</td>\n",
              "      <td>NaN</td>\n",
              "      <td>Complete</td>\n",
              "      <td>906636cf-ce95-11eb-8679-7c67a234f601</td>\n",
              "    </tr>\n",
              "  </tbody>\n",
              "</table>\n",
              "</div>"
            ],
            "text/plain": [
              "   Unnamed: 0  ...                              quest_id\n",
              "0           0  ...  906b3c86-ce95-11eb-b6a7-7c67a234f601\n",
              "1           1  ...  906636cf-ce95-11eb-8679-7c67a234f601\n",
              "\n",
              "[2 rows x 13 columns]"
            ]
          },
          "metadata": {
            "tags": []
          },
          "execution_count": 17
        }
      ]
    },
    {
      "cell_type": "code",
      "metadata": {
        "colab": {
          "base_uri": "https://localhost:8080/",
          "height": 163
        },
        "id": "E9Aa_fGifOjj",
        "outputId": "18b075da-8ad9-4d1c-e3bc-2b763ea8c062"
      },
      "source": [
        "#display two lines in the transaction dataframe\n",
        "transaction.head(2)"
      ],
      "execution_count": 18,
      "outputs": [
        {
          "output_type": "execute_result",
          "data": {
            "text/html": [
              "<div>\n",
              "<style scoped>\n",
              "    .dataframe tbody tr th:only-of-type {\n",
              "        vertical-align: middle;\n",
              "    }\n",
              "\n",
              "    .dataframe tbody tr th {\n",
              "        vertical-align: top;\n",
              "    }\n",
              "\n",
              "    .dataframe thead th {\n",
              "        text-align: right;\n",
              "    }\n",
              "</style>\n",
              "<table border=\"1\" class=\"dataframe\">\n",
              "  <thead>\n",
              "    <tr style=\"text-align: right;\">\n",
              "      <th></th>\n",
              "      <th>Column1</th>\n",
              "      <th>created_at</th>\n",
              "      <th>modified_at</th>\n",
              "      <th>user_id</th>\n",
              "      <th>course_id</th>\n",
              "      <th>transaction_id</th>\n",
              "    </tr>\n",
              "  </thead>\n",
              "  <tbody>\n",
              "    <tr>\n",
              "      <th>0</th>\n",
              "      <td>0</td>\n",
              "      <td>2021-03-08T05:08:50.832Z</td>\n",
              "      <td>2021-03-08T05:08:50.832Z</td>\n",
              "      <td>40976440</td>\n",
              "      <td>1047613</td>\n",
              "      <td>4641281952</td>\n",
              "    </tr>\n",
              "    <tr>\n",
              "      <th>1</th>\n",
              "      <td>1</td>\n",
              "      <td>2021-03-08T17:26:35.841Z</td>\n",
              "      <td>2021-03-08T17:26:35.841Z</td>\n",
              "      <td>41179271</td>\n",
              "      <td>1047613</td>\n",
              "      <td>4644270160</td>\n",
              "    </tr>\n",
              "  </tbody>\n",
              "</table>\n",
              "</div>"
            ],
            "text/plain": [
              "   Column1                created_at  ... course_id  transaction_id\n",
              "0        0  2021-03-08T05:08:50.832Z  ...   1047613      4641281952\n",
              "1        1  2021-03-08T17:26:35.841Z  ...   1047613      4644270160\n",
              "\n",
              "[2 rows x 6 columns]"
            ]
          },
          "metadata": {
            "tags": []
          },
          "execution_count": 18
        }
      ]
    },
    {
      "cell_type": "code",
      "metadata": {
        "colab": {
          "base_uri": "https://localhost:8080/",
          "height": 755
        },
        "id": "FQwk6d1-gf2p",
        "outputId": "e78317bb-15b4-4300-bebd-8fcd294cec80"
      },
      "source": [
        "# Concataned two dataframes on columns and display the dataframe\n",
        "df_result5=pd.concat([transaction,ord],axis=0)\n",
        "df_result5\n"
      ],
      "execution_count": 19,
      "outputs": [
        {
          "output_type": "execute_result",
          "data": {
            "text/html": [
              "<div>\n",
              "<style scoped>\n",
              "    .dataframe tbody tr th:only-of-type {\n",
              "        vertical-align: middle;\n",
              "    }\n",
              "\n",
              "    .dataframe tbody tr th {\n",
              "        vertical-align: top;\n",
              "    }\n",
              "\n",
              "    .dataframe thead th {\n",
              "        text-align: right;\n",
              "    }\n",
              "</style>\n",
              "<table border=\"1\" class=\"dataframe\">\n",
              "  <thead>\n",
              "    <tr style=\"text-align: right;\">\n",
              "      <th></th>\n",
              "      <th>Column1</th>\n",
              "      <th>created_at</th>\n",
              "      <th>modified_at</th>\n",
              "      <th>user_id</th>\n",
              "      <th>course_id</th>\n",
              "      <th>transaction_id</th>\n",
              "      <th>Unnamed: 0</th>\n",
              "      <th>product_name</th>\n",
              "      <th>product_id</th>\n",
              "      <th>amount_dollars</th>\n",
              "      <th>amount_cents</th>\n",
              "      <th>subscription</th>\n",
              "      <th>coupon_code</th>\n",
              "      <th>coupon_id</th>\n",
              "      <th>affiliate_referral_code</th>\n",
              "      <th>status</th>\n",
              "      <th>quest_id</th>\n",
              "    </tr>\n",
              "  </thead>\n",
              "  <tbody>\n",
              "    <tr>\n",
              "      <th>0</th>\n",
              "      <td>0.0</td>\n",
              "      <td>2021-03-08T05:08:50.832Z</td>\n",
              "      <td>2021-03-08T05:08:50.832Z</td>\n",
              "      <td>40976440</td>\n",
              "      <td>1047613.0</td>\n",
              "      <td>4.641282e+09</td>\n",
              "      <td>NaN</td>\n",
              "      <td>NaN</td>\n",
              "      <td>NaN</td>\n",
              "      <td>NaN</td>\n",
              "      <td>NaN</td>\n",
              "      <td>NaN</td>\n",
              "      <td>NaN</td>\n",
              "      <td>NaN</td>\n",
              "      <td>NaN</td>\n",
              "      <td>NaN</td>\n",
              "      <td>NaN</td>\n",
              "    </tr>\n",
              "    <tr>\n",
              "      <th>1</th>\n",
              "      <td>1.0</td>\n",
              "      <td>2021-03-08T17:26:35.841Z</td>\n",
              "      <td>2021-03-08T17:26:35.841Z</td>\n",
              "      <td>41179271</td>\n",
              "      <td>1047613.0</td>\n",
              "      <td>4.644270e+09</td>\n",
              "      <td>NaN</td>\n",
              "      <td>NaN</td>\n",
              "      <td>NaN</td>\n",
              "      <td>NaN</td>\n",
              "      <td>NaN</td>\n",
              "      <td>NaN</td>\n",
              "      <td>NaN</td>\n",
              "      <td>NaN</td>\n",
              "      <td>NaN</td>\n",
              "      <td>NaN</td>\n",
              "      <td>NaN</td>\n",
              "    </tr>\n",
              "    <tr>\n",
              "      <th>2</th>\n",
              "      <td>2.0</td>\n",
              "      <td>2021-03-08T18:52:09.147Z</td>\n",
              "      <td>2021-03-08T18:52:09.147Z</td>\n",
              "      <td>40973512</td>\n",
              "      <td>1047613.0</td>\n",
              "      <td>4.645071e+09</td>\n",
              "      <td>NaN</td>\n",
              "      <td>NaN</td>\n",
              "      <td>NaN</td>\n",
              "      <td>NaN</td>\n",
              "      <td>NaN</td>\n",
              "      <td>NaN</td>\n",
              "      <td>NaN</td>\n",
              "      <td>NaN</td>\n",
              "      <td>NaN</td>\n",
              "      <td>NaN</td>\n",
              "      <td>NaN</td>\n",
              "    </tr>\n",
              "    <tr>\n",
              "      <th>3</th>\n",
              "      <td>3.0</td>\n",
              "      <td>2021-03-08T19:06:32.837Z</td>\n",
              "      <td>2021-03-08T19:06:32.837Z</td>\n",
              "      <td>41177453</td>\n",
              "      <td>1047613.0</td>\n",
              "      <td>4.645209e+09</td>\n",
              "      <td>NaN</td>\n",
              "      <td>NaN</td>\n",
              "      <td>NaN</td>\n",
              "      <td>NaN</td>\n",
              "      <td>NaN</td>\n",
              "      <td>NaN</td>\n",
              "      <td>NaN</td>\n",
              "      <td>NaN</td>\n",
              "      <td>NaN</td>\n",
              "      <td>NaN</td>\n",
              "      <td>NaN</td>\n",
              "    </tr>\n",
              "    <tr>\n",
              "      <th>4</th>\n",
              "      <td>4.0</td>\n",
              "      <td>2021-03-08T22:10:00.796Z</td>\n",
              "      <td>2021-03-08T22:10:00.796Z</td>\n",
              "      <td>40797121</td>\n",
              "      <td>1047613.0</td>\n",
              "      <td>4.646815e+09</td>\n",
              "      <td>NaN</td>\n",
              "      <td>NaN</td>\n",
              "      <td>NaN</td>\n",
              "      <td>NaN</td>\n",
              "      <td>NaN</td>\n",
              "      <td>NaN</td>\n",
              "      <td>NaN</td>\n",
              "      <td>NaN</td>\n",
              "      <td>NaN</td>\n",
              "      <td>NaN</td>\n",
              "      <td>NaN</td>\n",
              "    </tr>\n",
              "    <tr>\n",
              "      <th>...</th>\n",
              "      <td>...</td>\n",
              "      <td>...</td>\n",
              "      <td>...</td>\n",
              "      <td>...</td>\n",
              "      <td>...</td>\n",
              "      <td>...</td>\n",
              "      <td>...</td>\n",
              "      <td>...</td>\n",
              "      <td>...</td>\n",
              "      <td>...</td>\n",
              "      <td>...</td>\n",
              "      <td>...</td>\n",
              "      <td>...</td>\n",
              "      <td>...</td>\n",
              "      <td>...</td>\n",
              "      <td>...</td>\n",
              "      <td>...</td>\n",
              "    </tr>\n",
              "    <tr>\n",
              "      <th>13</th>\n",
              "      <td>NaN</td>\n",
              "      <td>2021-02-18T14:45:02.292Z</td>\n",
              "      <td>NaN</td>\n",
              "      <td>39908510</td>\n",
              "      <td>NaN</td>\n",
              "      <td>NaN</td>\n",
              "      <td>13.0</td>\n",
              "      <td>Entwodiksyon Nan Syans Done</td>\n",
              "      <td>1100636.0</td>\n",
              "      <td>20.0</td>\n",
              "      <td>2000.0</td>\n",
              "      <td>False</td>\n",
              "      <td>NaN</td>\n",
              "      <td>NaN</td>\n",
              "      <td>NaN</td>\n",
              "      <td>Complete</td>\n",
              "      <td>905f5dc1-ce95-11eb-bfa7-7c67a234f601</td>\n",
              "    </tr>\n",
              "    <tr>\n",
              "      <th>14</th>\n",
              "      <td>NaN</td>\n",
              "      <td>2021-02-17T13:48:38.371Z</td>\n",
              "      <td>NaN</td>\n",
              "      <td>39903501</td>\n",
              "      <td>NaN</td>\n",
              "      <td>NaN</td>\n",
              "      <td>14.0</td>\n",
              "      <td>Entwodiksyon Nan Syans Done</td>\n",
              "      <td>1100636.0</td>\n",
              "      <td>20.0</td>\n",
              "      <td>2000.0</td>\n",
              "      <td>False</td>\n",
              "      <td>NaN</td>\n",
              "      <td>NaN</td>\n",
              "      <td>NaN</td>\n",
              "      <td>Complete</td>\n",
              "      <td>NaN</td>\n",
              "    </tr>\n",
              "    <tr>\n",
              "      <th>15</th>\n",
              "      <td>NaN</td>\n",
              "      <td>2021-02-17T11:08:54.385Z</td>\n",
              "      <td>NaN</td>\n",
              "      <td>39896120</td>\n",
              "      <td>NaN</td>\n",
              "      <td>NaN</td>\n",
              "      <td>15.0</td>\n",
              "      <td>Entwodiksyon Nan Syans Done</td>\n",
              "      <td>1100636.0</td>\n",
              "      <td>0.0</td>\n",
              "      <td>0.0</td>\n",
              "      <td>False</td>\n",
              "      <td>bootcamp_enroll</td>\n",
              "      <td>6452874.0</td>\n",
              "      <td>NaN</td>\n",
              "      <td>Complete</td>\n",
              "      <td>9062b754-ce95-11eb-b31e-7c67a234f601</td>\n",
              "    </tr>\n",
              "    <tr>\n",
              "      <th>16</th>\n",
              "      <td>NaN</td>\n",
              "      <td>2021-02-16T20:09:31.627Z</td>\n",
              "      <td>NaN</td>\n",
              "      <td>39856539</td>\n",
              "      <td>NaN</td>\n",
              "      <td>NaN</td>\n",
              "      <td>16.0</td>\n",
              "      <td>Entwodiksyon Nan Syans Done</td>\n",
              "      <td>1100636.0</td>\n",
              "      <td>20.0</td>\n",
              "      <td>2000.0</td>\n",
              "      <td>False</td>\n",
              "      <td>NaN</td>\n",
              "      <td>NaN</td>\n",
              "      <td>NaN</td>\n",
              "      <td>Complete</td>\n",
              "      <td>9069789f-ce95-11eb-9788-7c67a234f601</td>\n",
              "    </tr>\n",
              "    <tr>\n",
              "      <th>17</th>\n",
              "      <td>NaN</td>\n",
              "      <td>2021-01-05T04:00:41.222Z</td>\n",
              "      <td>NaN</td>\n",
              "      <td>34856150</td>\n",
              "      <td>NaN</td>\n",
              "      <td>NaN</td>\n",
              "      <td>17.0</td>\n",
              "      <td>Entwodiksyon Nan Syans Done</td>\n",
              "      <td>1100636.0</td>\n",
              "      <td>20.0</td>\n",
              "      <td>2000.0</td>\n",
              "      <td>False</td>\n",
              "      <td>NaN</td>\n",
              "      <td>NaN</td>\n",
              "      <td>NaN</td>\n",
              "      <td>Complete</td>\n",
              "      <td>NaN</td>\n",
              "    </tr>\n",
              "  </tbody>\n",
              "</table>\n",
              "<p>78 rows × 17 columns</p>\n",
              "</div>"
            ],
            "text/plain": [
              "    Column1  ...                              quest_id\n",
              "0       0.0  ...                                   NaN\n",
              "1       1.0  ...                                   NaN\n",
              "2       2.0  ...                                   NaN\n",
              "3       3.0  ...                                   NaN\n",
              "4       4.0  ...                                   NaN\n",
              "..      ...  ...                                   ...\n",
              "13      NaN  ...  905f5dc1-ce95-11eb-bfa7-7c67a234f601\n",
              "14      NaN  ...                                   NaN\n",
              "15      NaN  ...  9062b754-ce95-11eb-b31e-7c67a234f601\n",
              "16      NaN  ...  9069789f-ce95-11eb-9788-7c67a234f601\n",
              "17      NaN  ...                                   NaN\n",
              "\n",
              "[78 rows x 17 columns]"
            ]
          },
          "metadata": {
            "tags": []
          },
          "execution_count": 19
        }
      ]
    },
    {
      "cell_type": "code",
      "metadata": {
        "id": "HKm_u_JPhA84"
      },
      "source": [
        "# Delete some columns in df_result5 dataframe\n",
        "df_result5.drop([\"Column1\",\"Unnamed: 0\",\"course_id\",\"status\",\"product_name\",\"product_id\",\t\"amount_cents\",\t\"subscription\",\t\"coupon_code\",\t\"coupon_id\",\t\"affiliate_referral_code\"], axis=\"columns\",inplace=True)\n"
      ],
      "execution_count": 20,
      "outputs": []
    },
    {
      "cell_type": "code",
      "metadata": {
        "colab": {
          "base_uri": "https://localhost:8080/",
          "height": 704
        },
        "id": "3fQil_TvhFIY",
        "outputId": "65cdf3ab-9351-4e8f-d1cd-e382fc162ab9"
      },
      "source": [
        "# display df_result5\n",
        "df_result5"
      ],
      "execution_count": 21,
      "outputs": [
        {
          "output_type": "execute_result",
          "data": {
            "text/html": [
              "<div>\n",
              "<style scoped>\n",
              "    .dataframe tbody tr th:only-of-type {\n",
              "        vertical-align: middle;\n",
              "    }\n",
              "\n",
              "    .dataframe tbody tr th {\n",
              "        vertical-align: top;\n",
              "    }\n",
              "\n",
              "    .dataframe thead th {\n",
              "        text-align: right;\n",
              "    }\n",
              "</style>\n",
              "<table border=\"1\" class=\"dataframe\">\n",
              "  <thead>\n",
              "    <tr style=\"text-align: right;\">\n",
              "      <th></th>\n",
              "      <th>created_at</th>\n",
              "      <th>modified_at</th>\n",
              "      <th>user_id</th>\n",
              "      <th>transaction_id</th>\n",
              "      <th>amount_dollars</th>\n",
              "      <th>quest_id</th>\n",
              "    </tr>\n",
              "  </thead>\n",
              "  <tbody>\n",
              "    <tr>\n",
              "      <th>0</th>\n",
              "      <td>2021-03-08T05:08:50.832Z</td>\n",
              "      <td>2021-03-08T05:08:50.832Z</td>\n",
              "      <td>40976440</td>\n",
              "      <td>4.641282e+09</td>\n",
              "      <td>NaN</td>\n",
              "      <td>NaN</td>\n",
              "    </tr>\n",
              "    <tr>\n",
              "      <th>1</th>\n",
              "      <td>2021-03-08T17:26:35.841Z</td>\n",
              "      <td>2021-03-08T17:26:35.841Z</td>\n",
              "      <td>41179271</td>\n",
              "      <td>4.644270e+09</td>\n",
              "      <td>NaN</td>\n",
              "      <td>NaN</td>\n",
              "    </tr>\n",
              "    <tr>\n",
              "      <th>2</th>\n",
              "      <td>2021-03-08T18:52:09.147Z</td>\n",
              "      <td>2021-03-08T18:52:09.147Z</td>\n",
              "      <td>40973512</td>\n",
              "      <td>4.645071e+09</td>\n",
              "      <td>NaN</td>\n",
              "      <td>NaN</td>\n",
              "    </tr>\n",
              "    <tr>\n",
              "      <th>3</th>\n",
              "      <td>2021-03-08T19:06:32.837Z</td>\n",
              "      <td>2021-03-08T19:06:32.837Z</td>\n",
              "      <td>41177453</td>\n",
              "      <td>4.645209e+09</td>\n",
              "      <td>NaN</td>\n",
              "      <td>NaN</td>\n",
              "    </tr>\n",
              "    <tr>\n",
              "      <th>4</th>\n",
              "      <td>2021-03-08T22:10:00.796Z</td>\n",
              "      <td>2021-03-08T22:10:00.796Z</td>\n",
              "      <td>40797121</td>\n",
              "      <td>4.646815e+09</td>\n",
              "      <td>NaN</td>\n",
              "      <td>NaN</td>\n",
              "    </tr>\n",
              "    <tr>\n",
              "      <th>...</th>\n",
              "      <td>...</td>\n",
              "      <td>...</td>\n",
              "      <td>...</td>\n",
              "      <td>...</td>\n",
              "      <td>...</td>\n",
              "      <td>...</td>\n",
              "    </tr>\n",
              "    <tr>\n",
              "      <th>13</th>\n",
              "      <td>2021-02-18T14:45:02.292Z</td>\n",
              "      <td>NaN</td>\n",
              "      <td>39908510</td>\n",
              "      <td>NaN</td>\n",
              "      <td>20.0</td>\n",
              "      <td>905f5dc1-ce95-11eb-bfa7-7c67a234f601</td>\n",
              "    </tr>\n",
              "    <tr>\n",
              "      <th>14</th>\n",
              "      <td>2021-02-17T13:48:38.371Z</td>\n",
              "      <td>NaN</td>\n",
              "      <td>39903501</td>\n",
              "      <td>NaN</td>\n",
              "      <td>20.0</td>\n",
              "      <td>NaN</td>\n",
              "    </tr>\n",
              "    <tr>\n",
              "      <th>15</th>\n",
              "      <td>2021-02-17T11:08:54.385Z</td>\n",
              "      <td>NaN</td>\n",
              "      <td>39896120</td>\n",
              "      <td>NaN</td>\n",
              "      <td>0.0</td>\n",
              "      <td>9062b754-ce95-11eb-b31e-7c67a234f601</td>\n",
              "    </tr>\n",
              "    <tr>\n",
              "      <th>16</th>\n",
              "      <td>2021-02-16T20:09:31.627Z</td>\n",
              "      <td>NaN</td>\n",
              "      <td>39856539</td>\n",
              "      <td>NaN</td>\n",
              "      <td>20.0</td>\n",
              "      <td>9069789f-ce95-11eb-9788-7c67a234f601</td>\n",
              "    </tr>\n",
              "    <tr>\n",
              "      <th>17</th>\n",
              "      <td>2021-01-05T04:00:41.222Z</td>\n",
              "      <td>NaN</td>\n",
              "      <td>34856150</td>\n",
              "      <td>NaN</td>\n",
              "      <td>20.0</td>\n",
              "      <td>NaN</td>\n",
              "    </tr>\n",
              "  </tbody>\n",
              "</table>\n",
              "<p>78 rows × 6 columns</p>\n",
              "</div>"
            ],
            "text/plain": [
              "                  created_at  ...                              quest_id\n",
              "0   2021-03-08T05:08:50.832Z  ...                                   NaN\n",
              "1   2021-03-08T17:26:35.841Z  ...                                   NaN\n",
              "2   2021-03-08T18:52:09.147Z  ...                                   NaN\n",
              "3   2021-03-08T19:06:32.837Z  ...                                   NaN\n",
              "4   2021-03-08T22:10:00.796Z  ...                                   NaN\n",
              "..                       ...  ...                                   ...\n",
              "13  2021-02-18T14:45:02.292Z  ...  905f5dc1-ce95-11eb-bfa7-7c67a234f601\n",
              "14  2021-02-17T13:48:38.371Z  ...                                   NaN\n",
              "15  2021-02-17T11:08:54.385Z  ...  9062b754-ce95-11eb-b31e-7c67a234f601\n",
              "16  2021-02-16T20:09:31.627Z  ...  9069789f-ce95-11eb-9788-7c67a234f601\n",
              "17  2021-01-05T04:00:41.222Z  ...                                   NaN\n",
              "\n",
              "[78 rows x 6 columns]"
            ]
          },
          "metadata": {
            "tags": []
          },
          "execution_count": 21
        }
      ]
    },
    {
      "cell_type": "code",
      "metadata": {
        "id": "bwHQ-5hB3sqA"
      },
      "source": [
        "# Select the mentionned columns of df_result4 by loc process\n",
        "df_result4=df_result4.loc[:,[\"gender\",\"dob\",\"created_at_x\",\"education_level\",\"have_computer_home\",\n",
        "                 \"internet_at_home\",\"hear_AA_1\",\"quest_id\",\"course_name\",\"Commune_FR\",\"Departement\"]]\n",
        "\n"
      ],
      "execution_count": 22,
      "outputs": []
    },
    {
      "cell_type": "code",
      "metadata": {
        "id": "WA4iVK6VETac"
      },
      "source": [
        "# merge Two dataframes\n",
        "df_result6=pd.merge(left=df_result4, right=df_result5 , how=\"left\", on= \"quest_id\")"
      ],
      "execution_count": 23,
      "outputs": []
    },
    {
      "cell_type": "code",
      "metadata": {
        "colab": {
          "base_uri": "https://localhost:8080/",
          "height": 945
        },
        "id": "F2toHF8xQgms",
        "outputId": "3784923b-2666-4be8-a2e3-4038a3638db7"
      },
      "source": [
        "# display df_result6 dataframe\n",
        "df_result6"
      ],
      "execution_count": 24,
      "outputs": [
        {
          "output_type": "execute_result",
          "data": {
            "text/html": [
              "<div>\n",
              "<style scoped>\n",
              "    .dataframe tbody tr th:only-of-type {\n",
              "        vertical-align: middle;\n",
              "    }\n",
              "\n",
              "    .dataframe tbody tr th {\n",
              "        vertical-align: top;\n",
              "    }\n",
              "\n",
              "    .dataframe thead th {\n",
              "        text-align: right;\n",
              "    }\n",
              "</style>\n",
              "<table border=\"1\" class=\"dataframe\">\n",
              "  <thead>\n",
              "    <tr style=\"text-align: right;\">\n",
              "      <th></th>\n",
              "      <th>gender</th>\n",
              "      <th>dob</th>\n",
              "      <th>created_at_x</th>\n",
              "      <th>education_level</th>\n",
              "      <th>have_computer_home</th>\n",
              "      <th>internet_at_home</th>\n",
              "      <th>hear_AA_1</th>\n",
              "      <th>quest_id</th>\n",
              "      <th>course_name</th>\n",
              "      <th>Commune_FR</th>\n",
              "      <th>Departement</th>\n",
              "      <th>created_at</th>\n",
              "      <th>modified_at</th>\n",
              "      <th>user_id</th>\n",
              "      <th>transaction_id</th>\n",
              "      <th>amount_dollars</th>\n",
              "    </tr>\n",
              "  </thead>\n",
              "  <tbody>\n",
              "    <tr>\n",
              "      <th>0</th>\n",
              "      <td>male</td>\n",
              "      <td>25/08/1998</td>\n",
              "      <td>2021-02-14</td>\n",
              "      <td>unknown</td>\n",
              "      <td>unknown</td>\n",
              "      <td>unknown</td>\n",
              "      <td>unknown</td>\n",
              "      <td>905dc006-ce95-11eb-b2f9-7c67a234f601</td>\n",
              "      <td>Entwodiksyon Nan Syans Done</td>\n",
              "      <td>Port-au-Prince</td>\n",
              "      <td>West</td>\n",
              "      <td>NaN</td>\n",
              "      <td>NaN</td>\n",
              "      <td>NaN</td>\n",
              "      <td>NaN</td>\n",
              "      <td>NaN</td>\n",
              "    </tr>\n",
              "    <tr>\n",
              "      <th>1</th>\n",
              "      <td>female</td>\n",
              "      <td>29/09/1996</td>\n",
              "      <td>2021-02-16</td>\n",
              "      <td>Bachelors (bacc +4)</td>\n",
              "      <td>Yes</td>\n",
              "      <td>Yes</td>\n",
              "      <td>Friend</td>\n",
              "      <td>905ddcf2-ce95-11eb-9a92-7c67a234f601</td>\n",
              "      <td>NaN</td>\n",
              "      <td>Port-au-Prince</td>\n",
              "      <td>West</td>\n",
              "      <td>NaN</td>\n",
              "      <td>NaN</td>\n",
              "      <td>NaN</td>\n",
              "      <td>NaN</td>\n",
              "      <td>NaN</td>\n",
              "    </tr>\n",
              "    <tr>\n",
              "      <th>2</th>\n",
              "      <td>male</td>\n",
              "      <td>17/05/1996</td>\n",
              "      <td>2021-02-16</td>\n",
              "      <td>Bachelors (bacc +4)</td>\n",
              "      <td>Yes</td>\n",
              "      <td>Yes</td>\n",
              "      <td>Friend</td>\n",
              "      <td>905e2608-ce95-11eb-809f-7c67a234f601</td>\n",
              "      <td>Entwodiksyon Nan Syans Done</td>\n",
              "      <td>Port-au-Prince</td>\n",
              "      <td>West</td>\n",
              "      <td>NaN</td>\n",
              "      <td>NaN</td>\n",
              "      <td>NaN</td>\n",
              "      <td>NaN</td>\n",
              "      <td>NaN</td>\n",
              "    </tr>\n",
              "    <tr>\n",
              "      <th>3</th>\n",
              "      <td>male</td>\n",
              "      <td>24/11/1996</td>\n",
              "      <td>2021-02-16</td>\n",
              "      <td>Bachelors (bacc +4)</td>\n",
              "      <td>Yes</td>\n",
              "      <td>Yes</td>\n",
              "      <td>ESIH</td>\n",
              "      <td>905e4cf5-ce95-11eb-96a9-7c67a234f601</td>\n",
              "      <td>NaN</td>\n",
              "      <td>Port-au-Prince</td>\n",
              "      <td>West</td>\n",
              "      <td>NaN</td>\n",
              "      <td>NaN</td>\n",
              "      <td>NaN</td>\n",
              "      <td>NaN</td>\n",
              "      <td>NaN</td>\n",
              "    </tr>\n",
              "    <tr>\n",
              "      <th>4</th>\n",
              "      <td>male</td>\n",
              "      <td>20/07/1997</td>\n",
              "      <td>2021-02-16</td>\n",
              "      <td>High School (16 years)</td>\n",
              "      <td>Yes</td>\n",
              "      <td>Yes</td>\n",
              "      <td>WhatsApp</td>\n",
              "      <td>905e73fd-ce95-11eb-a7b0-7c67a234f601</td>\n",
              "      <td>NaN</td>\n",
              "      <td>Port-au-Prince</td>\n",
              "      <td>West</td>\n",
              "      <td>NaN</td>\n",
              "      <td>NaN</td>\n",
              "      <td>NaN</td>\n",
              "      <td>NaN</td>\n",
              "      <td>NaN</td>\n",
              "    </tr>\n",
              "    <tr>\n",
              "      <th>...</th>\n",
              "      <td>...</td>\n",
              "      <td>...</td>\n",
              "      <td>...</td>\n",
              "      <td>...</td>\n",
              "      <td>...</td>\n",
              "      <td>...</td>\n",
              "      <td>...</td>\n",
              "      <td>...</td>\n",
              "      <td>...</td>\n",
              "      <td>...</td>\n",
              "      <td>...</td>\n",
              "      <td>...</td>\n",
              "      <td>...</td>\n",
              "      <td>...</td>\n",
              "      <td>...</td>\n",
              "      <td>...</td>\n",
              "    </tr>\n",
              "    <tr>\n",
              "      <th>245</th>\n",
              "      <td>male</td>\n",
              "      <td>15/02/1994</td>\n",
              "      <td>2021-03-02</td>\n",
              "      <td>Bachelors (bacc +4)</td>\n",
              "      <td>Yes</td>\n",
              "      <td>Yes</td>\n",
              "      <td>Facebook</td>\n",
              "      <td>906b3c84-ce95-11eb-8c2a-7c67a234f601</td>\n",
              "      <td>Entwodiksyon Nan Syans Done</td>\n",
              "      <td>Mirebalais</td>\n",
              "      <td>Centre</td>\n",
              "      <td>NaN</td>\n",
              "      <td>NaN</td>\n",
              "      <td>NaN</td>\n",
              "      <td>NaN</td>\n",
              "      <td>NaN</td>\n",
              "    </tr>\n",
              "    <tr>\n",
              "      <th>246</th>\n",
              "      <td>male</td>\n",
              "      <td>08/10/1990</td>\n",
              "      <td>2021-03-10</td>\n",
              "      <td>Bachelors (bacc +4)</td>\n",
              "      <td>Yes</td>\n",
              "      <td>Yes</td>\n",
              "      <td>Friend</td>\n",
              "      <td>906b3c85-ce95-11eb-9b87-7c67a234f601</td>\n",
              "      <td>NaN</td>\n",
              "      <td>Mirebalais</td>\n",
              "      <td>Centre</td>\n",
              "      <td>NaN</td>\n",
              "      <td>NaN</td>\n",
              "      <td>NaN</td>\n",
              "      <td>NaN</td>\n",
              "      <td>NaN</td>\n",
              "    </tr>\n",
              "    <tr>\n",
              "      <th>247</th>\n",
              "      <td>male</td>\n",
              "      <td>28/12/1993</td>\n",
              "      <td>2021-03-14</td>\n",
              "      <td>Bachelors (bacc +4)</td>\n",
              "      <td>Yes</td>\n",
              "      <td>Yes</td>\n",
              "      <td>Friend</td>\n",
              "      <td>906b3c86-ce95-11eb-b6a7-7c67a234f601</td>\n",
              "      <td>Entwodiksyon Nan Syans Done</td>\n",
              "      <td>Mirebalais</td>\n",
              "      <td>Centre</td>\n",
              "      <td>2021-03-14T15:34:35.014Z</td>\n",
              "      <td>NaN</td>\n",
              "      <td>41587952.0</td>\n",
              "      <td>NaN</td>\n",
              "      <td>20.0</td>\n",
              "    </tr>\n",
              "    <tr>\n",
              "      <th>248</th>\n",
              "      <td>male</td>\n",
              "      <td>17/04/1992</td>\n",
              "      <td>2021-03-08</td>\n",
              "      <td>Bachelors (bacc +4)</td>\n",
              "      <td>Yes</td>\n",
              "      <td>Yes</td>\n",
              "      <td>Facebook</td>\n",
              "      <td>906b65e2-ce95-11eb-8b5c-7c67a234f601</td>\n",
              "      <td>Entwodiksyon Nan Syans Done</td>\n",
              "      <td>Ferrier</td>\n",
              "      <td>North-East</td>\n",
              "      <td>NaN</td>\n",
              "      <td>NaN</td>\n",
              "      <td>NaN</td>\n",
              "      <td>NaN</td>\n",
              "      <td>NaN</td>\n",
              "    </tr>\n",
              "    <tr>\n",
              "      <th>249</th>\n",
              "      <td>male</td>\n",
              "      <td>22/07/1993</td>\n",
              "      <td>2021-03-10</td>\n",
              "      <td>Masters</td>\n",
              "      <td>Yes</td>\n",
              "      <td>Yes</td>\n",
              "      <td>Facebook</td>\n",
              "      <td>906b65e3-ce95-11eb-a294-7c67a234f601</td>\n",
              "      <td>Entwodiksyon Nan Syans Done</td>\n",
              "      <td>Petite Rivière de Nippes</td>\n",
              "      <td>Nippes</td>\n",
              "      <td>NaN</td>\n",
              "      <td>NaN</td>\n",
              "      <td>NaN</td>\n",
              "      <td>NaN</td>\n",
              "      <td>NaN</td>\n",
              "    </tr>\n",
              "  </tbody>\n",
              "</table>\n",
              "<p>250 rows × 16 columns</p>\n",
              "</div>"
            ],
            "text/plain": [
              "     gender         dob  ... transaction_id amount_dollars\n",
              "0      male  25/08/1998  ...            NaN            NaN\n",
              "1    female  29/09/1996  ...            NaN            NaN\n",
              "2      male  17/05/1996  ...            NaN            NaN\n",
              "3      male  24/11/1996  ...            NaN            NaN\n",
              "4      male  20/07/1997  ...            NaN            NaN\n",
              "..      ...         ...  ...            ...            ...\n",
              "245    male  15/02/1994  ...            NaN            NaN\n",
              "246    male  08/10/1990  ...            NaN            NaN\n",
              "247    male  28/12/1993  ...            NaN           20.0\n",
              "248    male  17/04/1992  ...            NaN            NaN\n",
              "249    male  22/07/1993  ...            NaN            NaN\n",
              "\n",
              "[250 rows x 16 columns]"
            ]
          },
          "metadata": {
            "tags": []
          },
          "execution_count": 24
        }
      ]
    },
    {
      "cell_type": "code",
      "metadata": {
        "id": "Ud6tduIbTJNj"
      },
      "source": [
        "# select dob colums in df_result6 and replace the first date by the second\n",
        "df_result6[\"dob\"].replace({'3 aout 1977': '03/08/1977'}, inplace=True)\n",
        "#df_result6[df_result6[\"dob\"]== '3 aout 1977']\n",
        "#print(df_result6.iloc[10:20])"
      ],
      "execution_count": 25,
      "outputs": []
    },
    {
      "cell_type": "code",
      "metadata": {
        "id": "cjhDdTlJdoPW"
      },
      "source": [
        "#convert dob string in datetime\n",
        "df_result6[\"dob\"] = pd.to_datetime(df_result6[\"dob\"])"
      ],
      "execution_count": 26,
      "outputs": []
    },
    {
      "cell_type": "code",
      "metadata": {
        "colab": {
          "base_uri": "https://localhost:8080/",
          "height": 945
        },
        "id": "lWxKb7-bjOIu",
        "outputId": "685c3cfd-2ad1-4e06-f4b3-7cc3ba3c29ba"
      },
      "source": [
        "# convert created_at_x in to datetime\n",
        "df_result6[\"created_at_x\"] = pd.to_datetime(df_result6[\"created_at_x\"])\n",
        "df_result6"
      ],
      "execution_count": 27,
      "outputs": [
        {
          "output_type": "execute_result",
          "data": {
            "text/html": [
              "<div>\n",
              "<style scoped>\n",
              "    .dataframe tbody tr th:only-of-type {\n",
              "        vertical-align: middle;\n",
              "    }\n",
              "\n",
              "    .dataframe tbody tr th {\n",
              "        vertical-align: top;\n",
              "    }\n",
              "\n",
              "    .dataframe thead th {\n",
              "        text-align: right;\n",
              "    }\n",
              "</style>\n",
              "<table border=\"1\" class=\"dataframe\">\n",
              "  <thead>\n",
              "    <tr style=\"text-align: right;\">\n",
              "      <th></th>\n",
              "      <th>gender</th>\n",
              "      <th>dob</th>\n",
              "      <th>created_at_x</th>\n",
              "      <th>education_level</th>\n",
              "      <th>have_computer_home</th>\n",
              "      <th>internet_at_home</th>\n",
              "      <th>hear_AA_1</th>\n",
              "      <th>quest_id</th>\n",
              "      <th>course_name</th>\n",
              "      <th>Commune_FR</th>\n",
              "      <th>Departement</th>\n",
              "      <th>created_at</th>\n",
              "      <th>modified_at</th>\n",
              "      <th>user_id</th>\n",
              "      <th>transaction_id</th>\n",
              "      <th>amount_dollars</th>\n",
              "    </tr>\n",
              "  </thead>\n",
              "  <tbody>\n",
              "    <tr>\n",
              "      <th>0</th>\n",
              "      <td>male</td>\n",
              "      <td>1998-08-25</td>\n",
              "      <td>2021-02-14</td>\n",
              "      <td>unknown</td>\n",
              "      <td>unknown</td>\n",
              "      <td>unknown</td>\n",
              "      <td>unknown</td>\n",
              "      <td>905dc006-ce95-11eb-b2f9-7c67a234f601</td>\n",
              "      <td>Entwodiksyon Nan Syans Done</td>\n",
              "      <td>Port-au-Prince</td>\n",
              "      <td>West</td>\n",
              "      <td>NaN</td>\n",
              "      <td>NaN</td>\n",
              "      <td>NaN</td>\n",
              "      <td>NaN</td>\n",
              "      <td>NaN</td>\n",
              "    </tr>\n",
              "    <tr>\n",
              "      <th>1</th>\n",
              "      <td>female</td>\n",
              "      <td>1996-09-29</td>\n",
              "      <td>2021-02-16</td>\n",
              "      <td>Bachelors (bacc +4)</td>\n",
              "      <td>Yes</td>\n",
              "      <td>Yes</td>\n",
              "      <td>Friend</td>\n",
              "      <td>905ddcf2-ce95-11eb-9a92-7c67a234f601</td>\n",
              "      <td>NaN</td>\n",
              "      <td>Port-au-Prince</td>\n",
              "      <td>West</td>\n",
              "      <td>NaN</td>\n",
              "      <td>NaN</td>\n",
              "      <td>NaN</td>\n",
              "      <td>NaN</td>\n",
              "      <td>NaN</td>\n",
              "    </tr>\n",
              "    <tr>\n",
              "      <th>2</th>\n",
              "      <td>male</td>\n",
              "      <td>1996-05-17</td>\n",
              "      <td>2021-02-16</td>\n",
              "      <td>Bachelors (bacc +4)</td>\n",
              "      <td>Yes</td>\n",
              "      <td>Yes</td>\n",
              "      <td>Friend</td>\n",
              "      <td>905e2608-ce95-11eb-809f-7c67a234f601</td>\n",
              "      <td>Entwodiksyon Nan Syans Done</td>\n",
              "      <td>Port-au-Prince</td>\n",
              "      <td>West</td>\n",
              "      <td>NaN</td>\n",
              "      <td>NaN</td>\n",
              "      <td>NaN</td>\n",
              "      <td>NaN</td>\n",
              "      <td>NaN</td>\n",
              "    </tr>\n",
              "    <tr>\n",
              "      <th>3</th>\n",
              "      <td>male</td>\n",
              "      <td>1996-11-24</td>\n",
              "      <td>2021-02-16</td>\n",
              "      <td>Bachelors (bacc +4)</td>\n",
              "      <td>Yes</td>\n",
              "      <td>Yes</td>\n",
              "      <td>ESIH</td>\n",
              "      <td>905e4cf5-ce95-11eb-96a9-7c67a234f601</td>\n",
              "      <td>NaN</td>\n",
              "      <td>Port-au-Prince</td>\n",
              "      <td>West</td>\n",
              "      <td>NaN</td>\n",
              "      <td>NaN</td>\n",
              "      <td>NaN</td>\n",
              "      <td>NaN</td>\n",
              "      <td>NaN</td>\n",
              "    </tr>\n",
              "    <tr>\n",
              "      <th>4</th>\n",
              "      <td>male</td>\n",
              "      <td>1997-07-20</td>\n",
              "      <td>2021-02-16</td>\n",
              "      <td>High School (16 years)</td>\n",
              "      <td>Yes</td>\n",
              "      <td>Yes</td>\n",
              "      <td>WhatsApp</td>\n",
              "      <td>905e73fd-ce95-11eb-a7b0-7c67a234f601</td>\n",
              "      <td>NaN</td>\n",
              "      <td>Port-au-Prince</td>\n",
              "      <td>West</td>\n",
              "      <td>NaN</td>\n",
              "      <td>NaN</td>\n",
              "      <td>NaN</td>\n",
              "      <td>NaN</td>\n",
              "      <td>NaN</td>\n",
              "    </tr>\n",
              "    <tr>\n",
              "      <th>...</th>\n",
              "      <td>...</td>\n",
              "      <td>...</td>\n",
              "      <td>...</td>\n",
              "      <td>...</td>\n",
              "      <td>...</td>\n",
              "      <td>...</td>\n",
              "      <td>...</td>\n",
              "      <td>...</td>\n",
              "      <td>...</td>\n",
              "      <td>...</td>\n",
              "      <td>...</td>\n",
              "      <td>...</td>\n",
              "      <td>...</td>\n",
              "      <td>...</td>\n",
              "      <td>...</td>\n",
              "      <td>...</td>\n",
              "    </tr>\n",
              "    <tr>\n",
              "      <th>245</th>\n",
              "      <td>male</td>\n",
              "      <td>1994-02-15</td>\n",
              "      <td>2021-03-02</td>\n",
              "      <td>Bachelors (bacc +4)</td>\n",
              "      <td>Yes</td>\n",
              "      <td>Yes</td>\n",
              "      <td>Facebook</td>\n",
              "      <td>906b3c84-ce95-11eb-8c2a-7c67a234f601</td>\n",
              "      <td>Entwodiksyon Nan Syans Done</td>\n",
              "      <td>Mirebalais</td>\n",
              "      <td>Centre</td>\n",
              "      <td>NaN</td>\n",
              "      <td>NaN</td>\n",
              "      <td>NaN</td>\n",
              "      <td>NaN</td>\n",
              "      <td>NaN</td>\n",
              "    </tr>\n",
              "    <tr>\n",
              "      <th>246</th>\n",
              "      <td>male</td>\n",
              "      <td>1990-08-10</td>\n",
              "      <td>2021-03-10</td>\n",
              "      <td>Bachelors (bacc +4)</td>\n",
              "      <td>Yes</td>\n",
              "      <td>Yes</td>\n",
              "      <td>Friend</td>\n",
              "      <td>906b3c85-ce95-11eb-9b87-7c67a234f601</td>\n",
              "      <td>NaN</td>\n",
              "      <td>Mirebalais</td>\n",
              "      <td>Centre</td>\n",
              "      <td>NaN</td>\n",
              "      <td>NaN</td>\n",
              "      <td>NaN</td>\n",
              "      <td>NaN</td>\n",
              "      <td>NaN</td>\n",
              "    </tr>\n",
              "    <tr>\n",
              "      <th>247</th>\n",
              "      <td>male</td>\n",
              "      <td>1993-12-28</td>\n",
              "      <td>2021-03-14</td>\n",
              "      <td>Bachelors (bacc +4)</td>\n",
              "      <td>Yes</td>\n",
              "      <td>Yes</td>\n",
              "      <td>Friend</td>\n",
              "      <td>906b3c86-ce95-11eb-b6a7-7c67a234f601</td>\n",
              "      <td>Entwodiksyon Nan Syans Done</td>\n",
              "      <td>Mirebalais</td>\n",
              "      <td>Centre</td>\n",
              "      <td>2021-03-14T15:34:35.014Z</td>\n",
              "      <td>NaN</td>\n",
              "      <td>41587952.0</td>\n",
              "      <td>NaN</td>\n",
              "      <td>20.0</td>\n",
              "    </tr>\n",
              "    <tr>\n",
              "      <th>248</th>\n",
              "      <td>male</td>\n",
              "      <td>1992-04-17</td>\n",
              "      <td>2021-03-08</td>\n",
              "      <td>Bachelors (bacc +4)</td>\n",
              "      <td>Yes</td>\n",
              "      <td>Yes</td>\n",
              "      <td>Facebook</td>\n",
              "      <td>906b65e2-ce95-11eb-8b5c-7c67a234f601</td>\n",
              "      <td>Entwodiksyon Nan Syans Done</td>\n",
              "      <td>Ferrier</td>\n",
              "      <td>North-East</td>\n",
              "      <td>NaN</td>\n",
              "      <td>NaN</td>\n",
              "      <td>NaN</td>\n",
              "      <td>NaN</td>\n",
              "      <td>NaN</td>\n",
              "    </tr>\n",
              "    <tr>\n",
              "      <th>249</th>\n",
              "      <td>male</td>\n",
              "      <td>1993-07-22</td>\n",
              "      <td>2021-03-10</td>\n",
              "      <td>Masters</td>\n",
              "      <td>Yes</td>\n",
              "      <td>Yes</td>\n",
              "      <td>Facebook</td>\n",
              "      <td>906b65e3-ce95-11eb-a294-7c67a234f601</td>\n",
              "      <td>Entwodiksyon Nan Syans Done</td>\n",
              "      <td>Petite Rivière de Nippes</td>\n",
              "      <td>Nippes</td>\n",
              "      <td>NaN</td>\n",
              "      <td>NaN</td>\n",
              "      <td>NaN</td>\n",
              "      <td>NaN</td>\n",
              "      <td>NaN</td>\n",
              "    </tr>\n",
              "  </tbody>\n",
              "</table>\n",
              "<p>250 rows × 16 columns</p>\n",
              "</div>"
            ],
            "text/plain": [
              "     gender        dob created_at_x  ...     user_id transaction_id amount_dollars\n",
              "0      male 1998-08-25   2021-02-14  ...         NaN            NaN            NaN\n",
              "1    female 1996-09-29   2021-02-16  ...         NaN            NaN            NaN\n",
              "2      male 1996-05-17   2021-02-16  ...         NaN            NaN            NaN\n",
              "3      male 1996-11-24   2021-02-16  ...         NaN            NaN            NaN\n",
              "4      male 1997-07-20   2021-02-16  ...         NaN            NaN            NaN\n",
              "..      ...        ...          ...  ...         ...            ...            ...\n",
              "245    male 1994-02-15   2021-03-02  ...         NaN            NaN            NaN\n",
              "246    male 1990-08-10   2021-03-10  ...         NaN            NaN            NaN\n",
              "247    male 1993-12-28   2021-03-14  ...  41587952.0            NaN           20.0\n",
              "248    male 1992-04-17   2021-03-08  ...         NaN            NaN            NaN\n",
              "249    male 1993-07-22   2021-03-10  ...         NaN            NaN            NaN\n",
              "\n",
              "[250 rows x 16 columns]"
            ]
          },
          "metadata": {
            "tags": []
          },
          "execution_count": 27
        }
      ]
    },
    {
      "cell_type": "code",
      "metadata": {
        "colab": {
          "base_uri": "https://localhost:8080/",
          "height": 477
        },
        "id": "1wtz_IcsgI9h",
        "outputId": "18927f4d-ba10-4b8a-e97f-ad49b44dd910"
      },
      "source": [
        "# create a new colum age in df_result6, do a difference between created_at_x value and dob \n",
        "df_result6[\"age\"]=df_result6[\"created_at_x\"]-df_result6[\"dob\"]\n",
        "# convert the age which was in day into year\n",
        "df_result6[\"age\"]=df_result6[\"age\"]//365\n",
        "# delete the two last number in age by the lambda function\n",
        "df_result6[\"age\"] = df_result6[\"age\"].apply(lambda x: str(x)[:2])\n",
        "# display df_result6\n",
        "df_result6.head()"
      ],
      "execution_count": 28,
      "outputs": [
        {
          "output_type": "execute_result",
          "data": {
            "text/html": [
              "<div>\n",
              "<style scoped>\n",
              "    .dataframe tbody tr th:only-of-type {\n",
              "        vertical-align: middle;\n",
              "    }\n",
              "\n",
              "    .dataframe tbody tr th {\n",
              "        vertical-align: top;\n",
              "    }\n",
              "\n",
              "    .dataframe thead th {\n",
              "        text-align: right;\n",
              "    }\n",
              "</style>\n",
              "<table border=\"1\" class=\"dataframe\">\n",
              "  <thead>\n",
              "    <tr style=\"text-align: right;\">\n",
              "      <th></th>\n",
              "      <th>gender</th>\n",
              "      <th>dob</th>\n",
              "      <th>created_at_x</th>\n",
              "      <th>education_level</th>\n",
              "      <th>have_computer_home</th>\n",
              "      <th>internet_at_home</th>\n",
              "      <th>hear_AA_1</th>\n",
              "      <th>quest_id</th>\n",
              "      <th>course_name</th>\n",
              "      <th>Commune_FR</th>\n",
              "      <th>Departement</th>\n",
              "      <th>created_at</th>\n",
              "      <th>modified_at</th>\n",
              "      <th>user_id</th>\n",
              "      <th>transaction_id</th>\n",
              "      <th>amount_dollars</th>\n",
              "      <th>age</th>\n",
              "    </tr>\n",
              "  </thead>\n",
              "  <tbody>\n",
              "    <tr>\n",
              "      <th>0</th>\n",
              "      <td>male</td>\n",
              "      <td>1998-08-25</td>\n",
              "      <td>2021-02-14</td>\n",
              "      <td>unknown</td>\n",
              "      <td>unknown</td>\n",
              "      <td>unknown</td>\n",
              "      <td>unknown</td>\n",
              "      <td>905dc006-ce95-11eb-b2f9-7c67a234f601</td>\n",
              "      <td>Entwodiksyon Nan Syans Done</td>\n",
              "      <td>Port-au-Prince</td>\n",
              "      <td>West</td>\n",
              "      <td>NaN</td>\n",
              "      <td>NaN</td>\n",
              "      <td>NaN</td>\n",
              "      <td>NaN</td>\n",
              "      <td>NaN</td>\n",
              "      <td>22</td>\n",
              "    </tr>\n",
              "    <tr>\n",
              "      <th>1</th>\n",
              "      <td>female</td>\n",
              "      <td>1996-09-29</td>\n",
              "      <td>2021-02-16</td>\n",
              "      <td>Bachelors (bacc +4)</td>\n",
              "      <td>Yes</td>\n",
              "      <td>Yes</td>\n",
              "      <td>Friend</td>\n",
              "      <td>905ddcf2-ce95-11eb-9a92-7c67a234f601</td>\n",
              "      <td>NaN</td>\n",
              "      <td>Port-au-Prince</td>\n",
              "      <td>West</td>\n",
              "      <td>NaN</td>\n",
              "      <td>NaN</td>\n",
              "      <td>NaN</td>\n",
              "      <td>NaN</td>\n",
              "      <td>NaN</td>\n",
              "      <td>24</td>\n",
              "    </tr>\n",
              "    <tr>\n",
              "      <th>2</th>\n",
              "      <td>male</td>\n",
              "      <td>1996-05-17</td>\n",
              "      <td>2021-02-16</td>\n",
              "      <td>Bachelors (bacc +4)</td>\n",
              "      <td>Yes</td>\n",
              "      <td>Yes</td>\n",
              "      <td>Friend</td>\n",
              "      <td>905e2608-ce95-11eb-809f-7c67a234f601</td>\n",
              "      <td>Entwodiksyon Nan Syans Done</td>\n",
              "      <td>Port-au-Prince</td>\n",
              "      <td>West</td>\n",
              "      <td>NaN</td>\n",
              "      <td>NaN</td>\n",
              "      <td>NaN</td>\n",
              "      <td>NaN</td>\n",
              "      <td>NaN</td>\n",
              "      <td>24</td>\n",
              "    </tr>\n",
              "    <tr>\n",
              "      <th>3</th>\n",
              "      <td>male</td>\n",
              "      <td>1996-11-24</td>\n",
              "      <td>2021-02-16</td>\n",
              "      <td>Bachelors (bacc +4)</td>\n",
              "      <td>Yes</td>\n",
              "      <td>Yes</td>\n",
              "      <td>ESIH</td>\n",
              "      <td>905e4cf5-ce95-11eb-96a9-7c67a234f601</td>\n",
              "      <td>NaN</td>\n",
              "      <td>Port-au-Prince</td>\n",
              "      <td>West</td>\n",
              "      <td>NaN</td>\n",
              "      <td>NaN</td>\n",
              "      <td>NaN</td>\n",
              "      <td>NaN</td>\n",
              "      <td>NaN</td>\n",
              "      <td>24</td>\n",
              "    </tr>\n",
              "    <tr>\n",
              "      <th>4</th>\n",
              "      <td>male</td>\n",
              "      <td>1997-07-20</td>\n",
              "      <td>2021-02-16</td>\n",
              "      <td>High School (16 years)</td>\n",
              "      <td>Yes</td>\n",
              "      <td>Yes</td>\n",
              "      <td>WhatsApp</td>\n",
              "      <td>905e73fd-ce95-11eb-a7b0-7c67a234f601</td>\n",
              "      <td>NaN</td>\n",
              "      <td>Port-au-Prince</td>\n",
              "      <td>West</td>\n",
              "      <td>NaN</td>\n",
              "      <td>NaN</td>\n",
              "      <td>NaN</td>\n",
              "      <td>NaN</td>\n",
              "      <td>NaN</td>\n",
              "      <td>23</td>\n",
              "    </tr>\n",
              "  </tbody>\n",
              "</table>\n",
              "</div>"
            ],
            "text/plain": [
              "   gender        dob created_at_x  ... transaction_id amount_dollars age\n",
              "0    male 1998-08-25   2021-02-14  ...            NaN            NaN  22\n",
              "1  female 1996-09-29   2021-02-16  ...            NaN            NaN  24\n",
              "2    male 1996-05-17   2021-02-16  ...            NaN            NaN  24\n",
              "3    male 1996-11-24   2021-02-16  ...            NaN            NaN  24\n",
              "4    male 1997-07-20   2021-02-16  ...            NaN            NaN  23\n",
              "\n",
              "[5 rows x 17 columns]"
            ]
          },
          "metadata": {
            "tags": []
          },
          "execution_count": 28
        }
      ]
    },
    {
      "cell_type": "code",
      "metadata": {
        "id": "EyWjNhXsnIk-"
      },
      "source": [
        "# rename all the colum selected into df_result6\n",
        "df_result6 = df_result6.rename(columns={\"created_at_x\":\"Registration_date\",\"amount_dollars\":\"Payed_by_card\",\"transaction_id\":\"payed_by_moncash\"})"
      ],
      "execution_count": 29,
      "outputs": []
    },
    {
      "cell_type": "code",
      "metadata": {
        "colab": {
          "base_uri": "https://localhost:8080/",
          "height": 232
        },
        "id": "3Gx9VPHawXzK",
        "outputId": "389f3a38-658d-4776-a30e-9e9348c1464c"
      },
      "source": [
        "# display the two first line in df_result6 \n",
        "df_result6.head(2)"
      ],
      "execution_count": 30,
      "outputs": [
        {
          "output_type": "execute_result",
          "data": {
            "text/html": [
              "<div>\n",
              "<style scoped>\n",
              "    .dataframe tbody tr th:only-of-type {\n",
              "        vertical-align: middle;\n",
              "    }\n",
              "\n",
              "    .dataframe tbody tr th {\n",
              "        vertical-align: top;\n",
              "    }\n",
              "\n",
              "    .dataframe thead th {\n",
              "        text-align: right;\n",
              "    }\n",
              "</style>\n",
              "<table border=\"1\" class=\"dataframe\">\n",
              "  <thead>\n",
              "    <tr style=\"text-align: right;\">\n",
              "      <th></th>\n",
              "      <th>gender</th>\n",
              "      <th>dob</th>\n",
              "      <th>Registration_date</th>\n",
              "      <th>education_level</th>\n",
              "      <th>have_computer_home</th>\n",
              "      <th>internet_at_home</th>\n",
              "      <th>hear_AA_1</th>\n",
              "      <th>quest_id</th>\n",
              "      <th>course_name</th>\n",
              "      <th>Commune_FR</th>\n",
              "      <th>Departement</th>\n",
              "      <th>created_at</th>\n",
              "      <th>modified_at</th>\n",
              "      <th>user_id</th>\n",
              "      <th>payed_by_moncash</th>\n",
              "      <th>Payed_by_card</th>\n",
              "      <th>age</th>\n",
              "    </tr>\n",
              "  </thead>\n",
              "  <tbody>\n",
              "    <tr>\n",
              "      <th>0</th>\n",
              "      <td>male</td>\n",
              "      <td>1998-08-25</td>\n",
              "      <td>2021-02-14</td>\n",
              "      <td>unknown</td>\n",
              "      <td>unknown</td>\n",
              "      <td>unknown</td>\n",
              "      <td>unknown</td>\n",
              "      <td>905dc006-ce95-11eb-b2f9-7c67a234f601</td>\n",
              "      <td>Entwodiksyon Nan Syans Done</td>\n",
              "      <td>Port-au-Prince</td>\n",
              "      <td>West</td>\n",
              "      <td>NaN</td>\n",
              "      <td>NaN</td>\n",
              "      <td>NaN</td>\n",
              "      <td>NaN</td>\n",
              "      <td>NaN</td>\n",
              "      <td>22</td>\n",
              "    </tr>\n",
              "    <tr>\n",
              "      <th>1</th>\n",
              "      <td>female</td>\n",
              "      <td>1996-09-29</td>\n",
              "      <td>2021-02-16</td>\n",
              "      <td>Bachelors (bacc +4)</td>\n",
              "      <td>Yes</td>\n",
              "      <td>Yes</td>\n",
              "      <td>Friend</td>\n",
              "      <td>905ddcf2-ce95-11eb-9a92-7c67a234f601</td>\n",
              "      <td>NaN</td>\n",
              "      <td>Port-au-Prince</td>\n",
              "      <td>West</td>\n",
              "      <td>NaN</td>\n",
              "      <td>NaN</td>\n",
              "      <td>NaN</td>\n",
              "      <td>NaN</td>\n",
              "      <td>NaN</td>\n",
              "      <td>24</td>\n",
              "    </tr>\n",
              "  </tbody>\n",
              "</table>\n",
              "</div>"
            ],
            "text/plain": [
              "   gender        dob Registration_date  ... payed_by_moncash Payed_by_card age\n",
              "0    male 1998-08-25        2021-02-14  ...              NaN           NaN  22\n",
              "1  female 1996-09-29        2021-02-16  ...              NaN           NaN  24\n",
              "\n",
              "[2 rows x 17 columns]"
            ]
          },
          "metadata": {
            "tags": []
          },
          "execution_count": 30
        }
      ]
    },
    {
      "cell_type": "code",
      "metadata": {
        "colab": {
          "base_uri": "https://localhost:8080/"
        },
        "id": "5sDNxH1tIAQK",
        "outputId": "cdd8237d-6755-4878-a846-34c7c7815ec4"
      },
      "source": [
        "# display all information about the columns of df_result6\n",
        "df_result6.info()"
      ],
      "execution_count": 31,
      "outputs": [
        {
          "output_type": "stream",
          "text": [
            "<class 'pandas.core.frame.DataFrame'>\n",
            "Int64Index: 250 entries, 0 to 249\n",
            "Data columns (total 17 columns):\n",
            " #   Column              Non-Null Count  Dtype         \n",
            "---  ------              --------------  -----         \n",
            " 0   gender              250 non-null    object        \n",
            " 1   dob                 244 non-null    datetime64[ns]\n",
            " 2   Registration_date   250 non-null    datetime64[ns]\n",
            " 3   education_level     250 non-null    object        \n",
            " 4   have_computer_home  250 non-null    object        \n",
            " 5   internet_at_home    250 non-null    object        \n",
            " 6   hear_AA_1           250 non-null    object        \n",
            " 7   quest_id            250 non-null    object        \n",
            " 8   course_name         102 non-null    object        \n",
            " 9   Commune_FR          250 non-null    object        \n",
            " 10  Departement         250 non-null    object        \n",
            " 11  created_at          14 non-null     object        \n",
            " 12  modified_at         0 non-null      object        \n",
            " 13  user_id             14 non-null     float64       \n",
            " 14  payed_by_moncash    0 non-null      float64       \n",
            " 15  Payed_by_card       14 non-null     float64       \n",
            " 16  age                 250 non-null    object        \n",
            "dtypes: datetime64[ns](2), float64(3), object(12)\n",
            "memory usage: 35.2+ KB\n"
          ],
          "name": "stdout"
        }
      ]
    },
    {
      "cell_type": "code",
      "metadata": {
        "colab": {
          "base_uri": "https://localhost:8080/"
        },
        "id": "r9BfVI2XHjdP",
        "outputId": "bf922621-a5c1-4566-d323-e684152a66cc"
      },
      "source": [
        "# display the some of values of each column\n",
        "values = df_result6.isna().sum()\n",
        "values"
      ],
      "execution_count": 32,
      "outputs": [
        {
          "output_type": "execute_result",
          "data": {
            "text/plain": [
              "gender                  0\n",
              "dob                     6\n",
              "Registration_date       0\n",
              "education_level         0\n",
              "have_computer_home      0\n",
              "internet_at_home        0\n",
              "hear_AA_1               0\n",
              "quest_id                0\n",
              "course_name           148\n",
              "Commune_FR              0\n",
              "Departement             0\n",
              "created_at            236\n",
              "modified_at           250\n",
              "user_id               236\n",
              "payed_by_moncash      250\n",
              "Payed_by_card         236\n",
              "age                     0\n",
              "dtype: int64"
            ]
          },
          "metadata": {
            "tags": []
          },
          "execution_count": 32
        }
      ]
    },
    {
      "cell_type": "markdown",
      "metadata": {
        "id": "8s656j5fVX8A"
      },
      "source": [
        "## Data Processing"
      ]
    },
    {
      "cell_type": "markdown",
      "metadata": {
        "id": "D93xJzvyqY4r"
      },
      "source": [
        "Its objective is to know which three communes of the country will be the most likely to expand its training centers.\n",
        "\n",
        "Knowing that each cohort must have 30 students\n"
      ]
    },
    {
      "cell_type": "code",
      "metadata": {
        "id": "1h60iyO0zdkB"
      },
      "source": [
        "# function to do a barchat graph\n",
        "def generate_barchart(data=\"\", title =\"\",abs_value =\"Total\",rel_value=\"Percent\",figsize =(10,6),horizontal=\"\"):\n",
        "  plt.figure(figsize=figsize)\n",
        "  axes = sns.barplot(data=data,x=data.index,y=abs_value)\n",
        "  i=0\n",
        "  for tot, perc in zip(data[abs_value],data[rel_value]):\n",
        "    \n",
        "    axes.text(i,\n",
        "              tot/2,\n",
        "              str(np.round(perc*100,2))+ \"%\",\n",
        "               fontdict=dict(color='White',fontsize=12,horizontalalignment=\"center\")\n",
        "              )\n",
        "    \n",
        "    axes.text(i,\n",
        "              tot+3,\n",
        "              str(tot),\n",
        "               fontdict=dict(color='blue',fontsize=12,horizontalalignment=\"center\")\n",
        "              )\n",
        "    i+=1\n",
        "  plt.title(title)\n",
        "  plt.show()\n"
      ],
      "execution_count": 33,
      "outputs": []
    },
    {
      "cell_type": "code",
      "metadata": {
        "id": "L--JaXKE981g"
      },
      "source": [
        "# kakile frekans absoli ak frekans relativ yon varyab kategorik\n",
        "def graf(data,col=\"\", abs_value =\"Total\",rel_value =\"Percent\",show_plot=False, title=\"\",figsize=\"\"):\n",
        "  # absolute value\n",
        "   res1 = data[col].value_counts().to_frame()\n",
        "   res1.columns = [abs_value]\n",
        "   res2 = data[col].value_counts(normalize=True).to_frame()\n",
        "   res2.columns = [rel_value]\n",
        "   if  not show_plot:\n",
        "     return pd.concat([res1,res2],axis=1)\n",
        "   else:\n",
        "     result = pd.concat([res1,res2],axis=1)\n",
        "     generate_barchart(data=result, title =title,abs_value =abs_value,rel_value=rel_value,figsize =(10,6))\n",
        "     return result\n",
        "\n",
        "\n",
        "\n",
        "\n",
        "\n"
      ],
      "execution_count": 34,
      "outputs": []
    },
    {
      "cell_type": "code",
      "metadata": {
        "id": "6xJJBuYYtVS9"
      },
      "source": [
        "#function pivot table to to the pivot on the quest_id values on the commune_FR and fill zero in the nan value\n",
        "def pivot(y):\n",
        "  pivo=pd.pivot_table(df_result6, values='quest_id', index=['Commune_FR'], columns=y,aggfunc='count')\n",
        "  pivo=pivo.fillna(0)\n",
        "    #new_pivot.drop([\"unkwown\", \"other\", \"Other\"],axis=1, inplace=True)\n",
        "  return pivo"
      ],
      "execution_count": 35,
      "outputs": []
    },
    {
      "cell_type": "code",
      "metadata": {
        "colab": {
          "base_uri": "https://localhost:8080/",
          "height": 1000
        },
        "id": "CRzVfe1rt7iK",
        "outputId": "f7ff7b8b-30e8-495b-f2bf-a793f0a1cac6"
      },
      "source": [
        "# nunique function return number of unique elements in the object and display them in ascending order\n",
        "registration_per_commune=df_result6.groupby(\"Commune_FR\")[\"quest_id\"].nunique().sort_values(ascending=False).to_frame()\n",
        "registration_per_commune\n",
        "\n"
      ],
      "execution_count": 36,
      "outputs": [
        {
          "output_type": "execute_result",
          "data": {
            "text/html": [
              "<div>\n",
              "<style scoped>\n",
              "    .dataframe tbody tr th:only-of-type {\n",
              "        vertical-align: middle;\n",
              "    }\n",
              "\n",
              "    .dataframe tbody tr th {\n",
              "        vertical-align: top;\n",
              "    }\n",
              "\n",
              "    .dataframe thead th {\n",
              "        text-align: right;\n",
              "    }\n",
              "</style>\n",
              "<table border=\"1\" class=\"dataframe\">\n",
              "  <thead>\n",
              "    <tr style=\"text-align: right;\">\n",
              "      <th></th>\n",
              "      <th>quest_id</th>\n",
              "    </tr>\n",
              "    <tr>\n",
              "      <th>Commune_FR</th>\n",
              "      <th></th>\n",
              "    </tr>\n",
              "  </thead>\n",
              "  <tbody>\n",
              "    <tr>\n",
              "      <th>Delmas</th>\n",
              "      <td>71</td>\n",
              "    </tr>\n",
              "    <tr>\n",
              "      <th>Port-au-Prince</th>\n",
              "      <td>59</td>\n",
              "    </tr>\n",
              "    <tr>\n",
              "      <th>Pétion-Ville</th>\n",
              "      <td>29</td>\n",
              "    </tr>\n",
              "    <tr>\n",
              "      <th>Carrefour</th>\n",
              "      <td>23</td>\n",
              "    </tr>\n",
              "    <tr>\n",
              "      <th>Tabarre</th>\n",
              "      <td>11</td>\n",
              "    </tr>\n",
              "    <tr>\n",
              "      <th>Croix-Des-Bouquets</th>\n",
              "      <td>10</td>\n",
              "    </tr>\n",
              "    <tr>\n",
              "      <th>Cap-Haïtien</th>\n",
              "      <td>5</td>\n",
              "    </tr>\n",
              "    <tr>\n",
              "      <th>Saint-Marc</th>\n",
              "      <td>4</td>\n",
              "    </tr>\n",
              "    <tr>\n",
              "      <th>Jacmel</th>\n",
              "      <td>3</td>\n",
              "    </tr>\n",
              "    <tr>\n",
              "      <th>Mirebalais</th>\n",
              "      <td>3</td>\n",
              "    </tr>\n",
              "    <tr>\n",
              "      <th>Ouanaminthe</th>\n",
              "      <td>3</td>\n",
              "    </tr>\n",
              "    <tr>\n",
              "      <th>Verrettes</th>\n",
              "      <td>3</td>\n",
              "    </tr>\n",
              "    <tr>\n",
              "      <th>Cité Soleil</th>\n",
              "      <td>3</td>\n",
              "    </tr>\n",
              "    <tr>\n",
              "      <th>Léogâne</th>\n",
              "      <td>2</td>\n",
              "    </tr>\n",
              "    <tr>\n",
              "      <th>Gressier</th>\n",
              "      <td>1</td>\n",
              "    </tr>\n",
              "    <tr>\n",
              "      <th>Dondon</th>\n",
              "      <td>1</td>\n",
              "    </tr>\n",
              "    <tr>\n",
              "      <th>Cornillon / Grand Bois</th>\n",
              "      <td>1</td>\n",
              "    </tr>\n",
              "    <tr>\n",
              "      <th>Ferrier</th>\n",
              "      <td>1</td>\n",
              "    </tr>\n",
              "    <tr>\n",
              "      <th>Ganthier</th>\n",
              "      <td>1</td>\n",
              "    </tr>\n",
              "    <tr>\n",
              "      <th>Caracol</th>\n",
              "      <td>1</td>\n",
              "    </tr>\n",
              "    <tr>\n",
              "      <th>Grand-Goâve</th>\n",
              "      <td>1</td>\n",
              "    </tr>\n",
              "    <tr>\n",
              "      <th>Les Cayes</th>\n",
              "      <td>1</td>\n",
              "    </tr>\n",
              "    <tr>\n",
              "      <th>Gros Morne</th>\n",
              "      <td>1</td>\n",
              "    </tr>\n",
              "    <tr>\n",
              "      <th>Hinche</th>\n",
              "      <td>1</td>\n",
              "    </tr>\n",
              "    <tr>\n",
              "      <th>Kenscoff</th>\n",
              "      <td>1</td>\n",
              "    </tr>\n",
              "    <tr>\n",
              "      <th>Limonade</th>\n",
              "      <td>1</td>\n",
              "    </tr>\n",
              "    <tr>\n",
              "      <th>Mombin Crochu</th>\n",
              "      <td>1</td>\n",
              "    </tr>\n",
              "    <tr>\n",
              "      <th>Petit-Goâve</th>\n",
              "      <td>1</td>\n",
              "    </tr>\n",
              "    <tr>\n",
              "      <th>Petite Rivière de Nippes</th>\n",
              "      <td>1</td>\n",
              "    </tr>\n",
              "    <tr>\n",
              "      <th>Petite Rivière de l'Artibonite</th>\n",
              "      <td>1</td>\n",
              "    </tr>\n",
              "    <tr>\n",
              "      <th>Plaine du Nord</th>\n",
              "      <td>1</td>\n",
              "    </tr>\n",
              "    <tr>\n",
              "      <th>Port-Salut</th>\n",
              "      <td>1</td>\n",
              "    </tr>\n",
              "    <tr>\n",
              "      <th>Saint-Louis du Nord</th>\n",
              "      <td>1</td>\n",
              "    </tr>\n",
              "    <tr>\n",
              "      <th>Sainte Suzanne</th>\n",
              "      <td>1</td>\n",
              "    </tr>\n",
              "    <tr>\n",
              "      <th>Aquin</th>\n",
              "      <td>1</td>\n",
              "    </tr>\n",
              "  </tbody>\n",
              "</table>\n",
              "</div>"
            ],
            "text/plain": [
              "                                quest_id\n",
              "Commune_FR                              \n",
              "Delmas                                71\n",
              "Port-au-Prince                        59\n",
              "Pétion-Ville                          29\n",
              "Carrefour                             23\n",
              "Tabarre                               11\n",
              "Croix-Des-Bouquets                    10\n",
              "Cap-Haïtien                            5\n",
              "Saint-Marc                             4\n",
              "Jacmel                                 3\n",
              "Mirebalais                             3\n",
              "Ouanaminthe                            3\n",
              "Verrettes                              3\n",
              "Cité Soleil                            3\n",
              "Léogâne                                2\n",
              "Gressier                               1\n",
              "Dondon                                 1\n",
              "Cornillon / Grand Bois                 1\n",
              "Ferrier                                1\n",
              "Ganthier                               1\n",
              "Caracol                                1\n",
              "Grand-Goâve                            1\n",
              "Les Cayes                              1\n",
              "Gros Morne                             1\n",
              "Hinche                                 1\n",
              "Kenscoff                               1\n",
              "Limonade                               1\n",
              "Mombin Crochu                          1\n",
              "Petit-Goâve                            1\n",
              "Petite Rivière de Nippes               1\n",
              "Petite Rivière de l'Artibonite         1\n",
              "Plaine du Nord                         1\n",
              "Port-Salut                             1\n",
              "Saint-Louis du Nord                    1\n",
              "Sainte Suzanne                         1\n",
              "Aquin                                  1"
            ]
          },
          "metadata": {
            "tags": []
          },
          "execution_count": 36
        }
      ]
    },
    {
      "cell_type": "code",
      "metadata": {
        "id": "RQYYju1B33PX",
        "colab": {
          "base_uri": "https://localhost:8080/",
          "height": 138
        },
        "outputId": "73e7d697-aad0-41d8-fe04-f9808f48f10e"
      },
      "source": [
        "# count the values in commune_fr put them in a frame\n",
        "commune_total = df_result6.Commune_FR.value_counts(normalize=False).to_frame()\n",
        "# display commune totale 1  in the ascending order\n",
        "commune_total1= commune_total.sort_values(by=\"Commune_FR\",ascending=False)\n",
        "# add a frequence column in commune total 1 in put the frequencies in it\n",
        "commune_total1[\"frequence\"]=  commune_total1/df_result6.shape[0]  \n",
        "#affect to commune total 2 the columns delemas , petion-ville , carrefour \n",
        "total_commune2 =commune_total1.loc[[\"Delmas\",\"Pétion-Ville\",\"Carrefour\"]]\n",
        "# display total commune2\n",
        "total_commune2"
      ],
      "execution_count": 100,
      "outputs": [
        {
          "output_type": "execute_result",
          "data": {
            "text/html": [
              "<div>\n",
              "<style scoped>\n",
              "    .dataframe tbody tr th:only-of-type {\n",
              "        vertical-align: middle;\n",
              "    }\n",
              "\n",
              "    .dataframe tbody tr th {\n",
              "        vertical-align: top;\n",
              "    }\n",
              "\n",
              "    .dataframe thead th {\n",
              "        text-align: right;\n",
              "    }\n",
              "</style>\n",
              "<table border=\"1\" class=\"dataframe\">\n",
              "  <thead>\n",
              "    <tr style=\"text-align: right;\">\n",
              "      <th></th>\n",
              "      <th>Commune_FR</th>\n",
              "      <th>frequence</th>\n",
              "    </tr>\n",
              "  </thead>\n",
              "  <tbody>\n",
              "    <tr>\n",
              "      <th>Delmas</th>\n",
              "      <td>71</td>\n",
              "      <td>0.284</td>\n",
              "    </tr>\n",
              "    <tr>\n",
              "      <th>Pétion-Ville</th>\n",
              "      <td>29</td>\n",
              "      <td>0.116</td>\n",
              "    </tr>\n",
              "    <tr>\n",
              "      <th>Carrefour</th>\n",
              "      <td>23</td>\n",
              "      <td>0.092</td>\n",
              "    </tr>\n",
              "  </tbody>\n",
              "</table>\n",
              "</div>"
            ],
            "text/plain": [
              "              Commune_FR  frequence\n",
              "Delmas                71      0.284\n",
              "Pétion-Ville          29      0.116\n",
              "Carrefour             23      0.092"
            ]
          },
          "metadata": {
            "tags": []
          },
          "execution_count": 100
        }
      ]
    },
    {
      "cell_type": "code",
      "metadata": {
        "id": "4Xr1V3s_fdhN",
        "colab": {
          "base_uri": "https://localhost:8080/",
          "height": 390
        },
        "outputId": "3770b063-b233-4e20-fdfe-972224b48104"
      },
      "source": [
        "# call the function and pass the data to have the graph\n",
        "graph=generate_barchart(data=total_commune2,title=\"Regigistration By Commune\",abs_value=\"Commune_FR\",rel_value=\"frequence\")\n"
      ],
      "execution_count": 69,
      "outputs": [
        {
          "output_type": "display_data",
          "data": {
            "image/png": "[encoded data removed]",
            "text/plain": [
              "<Figure size 720x432 with 1 Axes>"
            ]
          },
          "metadata": {
            "tags": [],
            "needs_background": "light"
          }
        }
      ]
    },
    {
      "cell_type": "code",
      "metadata": {
        "id": "jtSI3h1Ox0df"
      },
      "source": [
        "# call the function of pivot and pass the data gender\n",
        "commune_data= pivot (\"gender\")\n",
        "# calculate the commune data frequencies\n",
        "commune_data[\"frequence\"]=commune_data[\"female\"]/(commune_data[\"female\"]+commune_data[\"male\"])                                            "
      ],
      "execution_count": 102,
      "outputs": []
    },
    {
      "cell_type": "code",
      "metadata": {
        "colab": {
          "base_uri": "https://localhost:8080/"
        },
        "id": "GPjBLArUJ-xQ",
        "outputId": "9e531de1-ac11-4144-dcd3-c7bc5f1693a9"
      },
      "source": [
        "# display the shape of commune data\n",
        "commune_data.shape"
      ],
      "execution_count": 40,
      "outputs": [
        {
          "output_type": "execute_result",
          "data": {
            "text/plain": [
              "(35, 3)"
            ]
          },
          "metadata": {
            "tags": []
          },
          "execution_count": 40
        }
      ]
    },
    {
      "cell_type": "code",
      "metadata": {
        "colab": {
          "base_uri": "https://localhost:8080/",
          "height": 108
        },
        "id": "swQq5RcClRak",
        "outputId": "4cdbb52e-c684-4581-c7d1-552c4d3b9a7b"
      },
      "source": [
        "# to have the frequencies of gender in a data frame\n",
        "prob_gender = df_result6.gender.value_counts(normalize=True).to_frame()\n",
        "# Rename the gender column in percent\n",
        "prob_gender.rename(columns={\"gender\":\"Percent\"},inplace=True)\n",
        "# display the data frame of prob gender\n",
        "prob_gender"
      ],
      "execution_count": 41,
      "outputs": [
        {
          "output_type": "execute_result",
          "data": {
            "text/html": [
              "<div>\n",
              "<style scoped>\n",
              "    .dataframe tbody tr th:only-of-type {\n",
              "        vertical-align: middle;\n",
              "    }\n",
              "\n",
              "    .dataframe tbody tr th {\n",
              "        vertical-align: top;\n",
              "    }\n",
              "\n",
              "    .dataframe thead th {\n",
              "        text-align: right;\n",
              "    }\n",
              "</style>\n",
              "<table border=\"1\" class=\"dataframe\">\n",
              "  <thead>\n",
              "    <tr style=\"text-align: right;\">\n",
              "      <th></th>\n",
              "      <th>Percent</th>\n",
              "    </tr>\n",
              "  </thead>\n",
              "  <tbody>\n",
              "    <tr>\n",
              "      <th>male</th>\n",
              "      <td>0.812</td>\n",
              "    </tr>\n",
              "    <tr>\n",
              "      <th>female</th>\n",
              "      <td>0.188</td>\n",
              "    </tr>\n",
              "  </tbody>\n",
              "</table>\n",
              "</div>"
            ],
            "text/plain": [
              "        Percent\n",
              "male      0.812\n",
              "female    0.188"
            ]
          },
          "metadata": {
            "tags": []
          },
          "execution_count": 41
        }
      ]
    },
    {
      "cell_type": "code",
      "metadata": {
        "colab": {
          "base_uri": "https://localhost:8080/",
          "height": 108
        },
        "id": "tzDqXNmXkoJM",
        "outputId": "774a18fe-7214-4ab2-a9ed-1a1a2720df87"
      },
      "source": [
        "# to count the values of gender in put them in a frame\n",
        "gender_total = df_result6.gender.value_counts(normalize=False).to_frame()\n",
        "# Rename the gender column by totaal and persist on the change\n",
        "gender_total.rename(columns={\"gender\": \"Total\"},inplace=True)\n",
        "#display gender total dataframe\n",
        "gender_total"
      ],
      "execution_count": 42,
      "outputs": [
        {
          "output_type": "execute_result",
          "data": {
            "text/html": [
              "<div>\n",
              "<style scoped>\n",
              "    .dataframe tbody tr th:only-of-type {\n",
              "        vertical-align: middle;\n",
              "    }\n",
              "\n",
              "    .dataframe tbody tr th {\n",
              "        vertical-align: top;\n",
              "    }\n",
              "\n",
              "    .dataframe thead th {\n",
              "        text-align: right;\n",
              "    }\n",
              "</style>\n",
              "<table border=\"1\" class=\"dataframe\">\n",
              "  <thead>\n",
              "    <tr style=\"text-align: right;\">\n",
              "      <th></th>\n",
              "      <th>Total</th>\n",
              "    </tr>\n",
              "  </thead>\n",
              "  <tbody>\n",
              "    <tr>\n",
              "      <th>male</th>\n",
              "      <td>203</td>\n",
              "    </tr>\n",
              "    <tr>\n",
              "      <th>female</th>\n",
              "      <td>47</td>\n",
              "    </tr>\n",
              "  </tbody>\n",
              "</table>\n",
              "</div>"
            ],
            "text/plain": [
              "        Total\n",
              "male      203\n",
              "female     47"
            ]
          },
          "metadata": {
            "tags": []
          },
          "execution_count": 42
        }
      ]
    },
    {
      "cell_type": "code",
      "metadata": {
        "colab": {
          "base_uri": "https://localhost:8080/",
          "height": 108
        },
        "id": "m6SvvxnGl6KE",
        "outputId": "bd4d1bbb-d56c-4f35-ae7a-85547bec95e0"
      },
      "source": [
        "# concat gender result and gender total dataframe on the line\n",
        "gender_result = pd.concat([prob_gender,gender_total],axis =1)\n",
        "gender_result#.reset_index()"
      ],
      "execution_count": 43,
      "outputs": [
        {
          "output_type": "execute_result",
          "data": {
            "text/html": [
              "<div>\n",
              "<style scoped>\n",
              "    .dataframe tbody tr th:only-of-type {\n",
              "        vertical-align: middle;\n",
              "    }\n",
              "\n",
              "    .dataframe tbody tr th {\n",
              "        vertical-align: top;\n",
              "    }\n",
              "\n",
              "    .dataframe thead th {\n",
              "        text-align: right;\n",
              "    }\n",
              "</style>\n",
              "<table border=\"1\" class=\"dataframe\">\n",
              "  <thead>\n",
              "    <tr style=\"text-align: right;\">\n",
              "      <th></th>\n",
              "      <th>Percent</th>\n",
              "      <th>Total</th>\n",
              "    </tr>\n",
              "  </thead>\n",
              "  <tbody>\n",
              "    <tr>\n",
              "      <th>male</th>\n",
              "      <td>0.812</td>\n",
              "      <td>203</td>\n",
              "    </tr>\n",
              "    <tr>\n",
              "      <th>female</th>\n",
              "      <td>0.188</td>\n",
              "      <td>47</td>\n",
              "    </tr>\n",
              "  </tbody>\n",
              "</table>\n",
              "</div>"
            ],
            "text/plain": [
              "        Percent  Total\n",
              "male      0.812    203\n",
              "female    0.188     47"
            ]
          },
          "metadata": {
            "tags": []
          },
          "execution_count": 43
        }
      ]
    },
    {
      "cell_type": "code",
      "metadata": {
        "colab": {
          "base_uri": "https://localhost:8080/",
          "height": 390
        },
        "id": "49aLukShpJKa",
        "outputId": "644a5c87-aae6-40d2-df38-0d961dbaa9eb"
      },
      "source": [
        "# call the generate barchert function to display the graph by sex\n",
        "generate_barchart(data=gender_result,title=\"Total et Percent By Sex\",abs_value=\"Total\",rel_value=\"Percent\")\n"
      ],
      "execution_count": 44,
      "outputs": [
        {
          "output_type": "display_data",
          "data": {
            "image/png": "[encoded data removed]",
            "text/plain": [
              "<Figure size 720x432 with 1 Axes>"
            ]
          },
          "metadata": {
            "tags": [],
            "needs_background": "light"
          }
        }
      ]
    },
    {
      "cell_type": "markdown",
      "metadata": {
        "id": "-t7qe2wCWKA0"
      },
      "source": [
        "## Data Analysis Multivariate"
      ]
    },
    {
      "cell_type": "markdown",
      "metadata": {
        "id": "yRR318I1sCqU"
      },
      "source": [
        "How many applications must be made to select 25% women for each on average\n"
      ]
    },
    {
      "cell_type": "code",
      "metadata": {
        "id": "eN1CuCOZijUP",
        "colab": {
          "base_uri": "https://localhost:8080/"
        },
        "outputId": "26f0130d-1ef9-4977-fca5-fa942147ad1f"
      },
      "source": [
        "#Probability to take one women on the total registered woman\n",
        "prob_1_women= 4/gender_total.loc[\"female\"]\n",
        "#display prob_1-woman\n",
        "prob_1_women\n",
        "# probality to take one woman on the total gender registered\n",
        "prob_registrated_women= gender_total.loc[\"female\"]/ (gender_total.loc[\"female\"]+gender_total.loc[\"male\"])\n",
        "# multiply the two probablity\n",
        "result_women=prob_1_women*prob_registrated_women\n",
        "# divide the target by the result_woman probability to find the quantity of applicants \n",
        "result_women_final= 25/result_women\n",
        "#display the final result\n",
        "result_women_final"
      ],
      "execution_count": 46,
      "outputs": [
        {
          "output_type": "execute_result",
          "data": {
            "text/plain": [
              "Total    1562.5\n",
              "dtype: float64"
            ]
          },
          "metadata": {
            "tags": []
          },
          "execution_count": 46
        }
      ]
    },
    {
      "cell_type": "code",
      "metadata": {
        "colab": {
          "base_uri": "https://localhost:8080/",
          "height": 263
        },
        "id": "t0gY-CCFlAeV",
        "outputId": "d7edca4a-d2a4-49a3-caa0-c3ff1e3464aa"
      },
      "source": [
        "# call the pivot function on gender, internet_at_home, computer_at_home and education level\n",
        "pv_gender=pivot(\"gender\")\n",
        "pv_gender.head()\n",
        "pv_internet =pivot(\"internet_at_home\")\n",
        "pv_internet.head()\n",
        "pv_computer=pivot(\"have_computer_home\")\n",
        "pv_computer.head()\n",
        "pv_education=pivot(\"education_level\")\n",
        "pv_education.head()"
      ],
      "execution_count": 47,
      "outputs": [
        {
          "output_type": "execute_result",
          "data": {
            "text/html": [
              "<div>\n",
              "<style scoped>\n",
              "    .dataframe tbody tr th:only-of-type {\n",
              "        vertical-align: middle;\n",
              "    }\n",
              "\n",
              "    .dataframe tbody tr th {\n",
              "        vertical-align: top;\n",
              "    }\n",
              "\n",
              "    .dataframe thead th {\n",
              "        text-align: right;\n",
              "    }\n",
              "</style>\n",
              "<table border=\"1\" class=\"dataframe\">\n",
              "  <thead>\n",
              "    <tr style=\"text-align: right;\">\n",
              "      <th>education_level</th>\n",
              "      <th>Bachelors (bacc +4)</th>\n",
              "      <th>Doctorate (PhD, MD, JD)</th>\n",
              "      <th>High School (16 years)</th>\n",
              "      <th>Masters</th>\n",
              "      <th>Other</th>\n",
              "      <th>unknown</th>\n",
              "    </tr>\n",
              "    <tr>\n",
              "      <th>Commune_FR</th>\n",
              "      <th></th>\n",
              "      <th></th>\n",
              "      <th></th>\n",
              "      <th></th>\n",
              "      <th></th>\n",
              "      <th></th>\n",
              "    </tr>\n",
              "  </thead>\n",
              "  <tbody>\n",
              "    <tr>\n",
              "      <th>Aquin</th>\n",
              "      <td>1.0</td>\n",
              "      <td>0.0</td>\n",
              "      <td>0.0</td>\n",
              "      <td>0.0</td>\n",
              "      <td>0.0</td>\n",
              "      <td>0.0</td>\n",
              "    </tr>\n",
              "    <tr>\n",
              "      <th>Cap-Haïtien</th>\n",
              "      <td>4.0</td>\n",
              "      <td>0.0</td>\n",
              "      <td>0.0</td>\n",
              "      <td>0.0</td>\n",
              "      <td>1.0</td>\n",
              "      <td>0.0</td>\n",
              "    </tr>\n",
              "    <tr>\n",
              "      <th>Caracol</th>\n",
              "      <td>1.0</td>\n",
              "      <td>0.0</td>\n",
              "      <td>0.0</td>\n",
              "      <td>0.0</td>\n",
              "      <td>0.0</td>\n",
              "      <td>0.0</td>\n",
              "    </tr>\n",
              "    <tr>\n",
              "      <th>Carrefour</th>\n",
              "      <td>17.0</td>\n",
              "      <td>0.0</td>\n",
              "      <td>3.0</td>\n",
              "      <td>1.0</td>\n",
              "      <td>2.0</td>\n",
              "      <td>0.0</td>\n",
              "    </tr>\n",
              "    <tr>\n",
              "      <th>Cité Soleil</th>\n",
              "      <td>1.0</td>\n",
              "      <td>0.0</td>\n",
              "      <td>0.0</td>\n",
              "      <td>0.0</td>\n",
              "      <td>2.0</td>\n",
              "      <td>0.0</td>\n",
              "    </tr>\n",
              "  </tbody>\n",
              "</table>\n",
              "</div>"
            ],
            "text/plain": [
              "education_level  Bachelors (bacc +4)  Doctorate (PhD, MD, JD)  ...  Other  unknown\n",
              "Commune_FR                                                     ...                \n",
              "Aquin                            1.0                      0.0  ...    0.0      0.0\n",
              "Cap-Haïtien                      4.0                      0.0  ...    1.0      0.0\n",
              "Caracol                          1.0                      0.0  ...    0.0      0.0\n",
              "Carrefour                       17.0                      0.0  ...    2.0      0.0\n",
              "Cité Soleil                      1.0                      0.0  ...    2.0      0.0\n",
              "\n",
              "[5 rows x 6 columns]"
            ]
          },
          "metadata": {
            "tags": []
          },
          "execution_count": 47
        }
      ]
    },
    {
      "cell_type": "code",
      "metadata": {
        "id": "iJkqSjQR99pW"
      },
      "source": [
        ""
      ],
      "execution_count": 98,
      "outputs": []
    },
    {
      "cell_type": "code",
      "metadata": {
        "colab": {
          "base_uri": "https://localhost:8080/",
          "height": 240
        },
        "id": "xyGmb14q6HBn",
        "outputId": "dd347ce3-6764-413d-afc4-edb2a3970440"
      },
      "source": [
        "# rename the yes columns by have computer or internet and the no column by dont have computer or internet\n",
        "pv_computer= pv_computer.rename(columns={\"Yes\":\"have_computer\",\"No\":\"dont_have_computer\"})\n",
        "pv_internet=pv_internet.rename(columns={\"Yes\":\"have_internet\",\"No\":\"dont_have_internet\"})\n",
        "# concat the the pv_gender, education leveel and so one on the line\n",
        "df_concat= pd.concat([pv_gender, pv_education, pv_internet, pv_computer], axis=1)\n",
        "# display the three columns mentionned\n",
        "df_concat.loc[[\"Delmas\",\"Pétion-Ville\",\"Carrefour\"]]"
      ],
      "execution_count": 96,
      "outputs": [
        {
          "output_type": "execute_result",
          "data": {
            "text/html": [
              "<div>\n",
              "<style scoped>\n",
              "    .dataframe tbody tr th:only-of-type {\n",
              "        vertical-align: middle;\n",
              "    }\n",
              "\n",
              "    .dataframe tbody tr th {\n",
              "        vertical-align: top;\n",
              "    }\n",
              "\n",
              "    .dataframe thead th {\n",
              "        text-align: right;\n",
              "    }\n",
              "</style>\n",
              "<table border=\"1\" class=\"dataframe\">\n",
              "  <thead>\n",
              "    <tr style=\"text-align: right;\">\n",
              "      <th></th>\n",
              "      <th>female</th>\n",
              "      <th>male</th>\n",
              "      <th>Bachelors (bacc +4)</th>\n",
              "      <th>Doctorate (PhD, MD, JD)</th>\n",
              "      <th>High School (16 years)</th>\n",
              "      <th>Masters</th>\n",
              "      <th>Other</th>\n",
              "      <th>unknown</th>\n",
              "      <th>dont_have_internet</th>\n",
              "      <th>have_internet</th>\n",
              "      <th>unknown</th>\n",
              "      <th>dont_have_computer</th>\n",
              "      <th>have_computer</th>\n",
              "      <th>unknown</th>\n",
              "    </tr>\n",
              "    <tr>\n",
              "      <th>Commune_FR</th>\n",
              "      <th></th>\n",
              "      <th></th>\n",
              "      <th></th>\n",
              "      <th></th>\n",
              "      <th></th>\n",
              "      <th></th>\n",
              "      <th></th>\n",
              "      <th></th>\n",
              "      <th></th>\n",
              "      <th></th>\n",
              "      <th></th>\n",
              "      <th></th>\n",
              "      <th></th>\n",
              "      <th></th>\n",
              "    </tr>\n",
              "  </thead>\n",
              "  <tbody>\n",
              "    <tr>\n",
              "      <th>Delmas</th>\n",
              "      <td>12.0</td>\n",
              "      <td>59.0</td>\n",
              "      <td>41.0</td>\n",
              "      <td>1.0</td>\n",
              "      <td>8.0</td>\n",
              "      <td>5.0</td>\n",
              "      <td>16.0</td>\n",
              "      <td>0.0</td>\n",
              "      <td>10.0</td>\n",
              "      <td>61.0</td>\n",
              "      <td>0.0</td>\n",
              "      <td>5.0</td>\n",
              "      <td>66.0</td>\n",
              "      <td>0.0</td>\n",
              "    </tr>\n",
              "    <tr>\n",
              "      <th>Pétion-Ville</th>\n",
              "      <td>4.0</td>\n",
              "      <td>25.0</td>\n",
              "      <td>20.0</td>\n",
              "      <td>0.0</td>\n",
              "      <td>3.0</td>\n",
              "      <td>1.0</td>\n",
              "      <td>5.0</td>\n",
              "      <td>0.0</td>\n",
              "      <td>3.0</td>\n",
              "      <td>25.0</td>\n",
              "      <td>1.0</td>\n",
              "      <td>4.0</td>\n",
              "      <td>25.0</td>\n",
              "      <td>0.0</td>\n",
              "    </tr>\n",
              "    <tr>\n",
              "      <th>Carrefour</th>\n",
              "      <td>6.0</td>\n",
              "      <td>17.0</td>\n",
              "      <td>17.0</td>\n",
              "      <td>0.0</td>\n",
              "      <td>3.0</td>\n",
              "      <td>1.0</td>\n",
              "      <td>2.0</td>\n",
              "      <td>0.0</td>\n",
              "      <td>5.0</td>\n",
              "      <td>18.0</td>\n",
              "      <td>0.0</td>\n",
              "      <td>2.0</td>\n",
              "      <td>21.0</td>\n",
              "      <td>0.0</td>\n",
              "    </tr>\n",
              "  </tbody>\n",
              "</table>\n",
              "</div>"
            ],
            "text/plain": [
              "              female  male  ...  have_computer  unknown\n",
              "Commune_FR                  ...                        \n",
              "Delmas          12.0  59.0  ...           66.0      0.0\n",
              "Pétion-Ville     4.0  25.0  ...           25.0      0.0\n",
              "Carrefour        6.0  17.0  ...           21.0      0.0\n",
              "\n",
              "[3 rows x 14 columns]"
            ]
          },
          "metadata": {
            "tags": []
          },
          "execution_count": 96
        }
      ]
    },
    {
      "cell_type": "code",
      "metadata": {
        "id": "WcoG_TFo-HOU"
      },
      "source": [
        ""
      ],
      "execution_count": 98,
      "outputs": []
    },
    {
      "cell_type": "markdown",
      "metadata": {
        "id": "wKkOS0emHkwt"
      },
      "source": [
        "What are the most effective communication channels (Alumni, Facebook, WhatsApp, Friend ...) that will allow a student to be susceptible to selection\n"
      ]
    },
    {
      "cell_type": "code",
      "metadata": {
        "colab": {
          "base_uri": "https://localhost:8080/",
          "height": 713
        },
        "id": "GkPdo-LZ3ds3",
        "outputId": "0f2b4c6c-ffef-4a4e-ebbe-386f1656d00e"
      },
      "source": [
        "#call the graf function to do the graphe on hear aa 1 colums on how the registered hear about ayiti analytics\n",
        "graf(data=df_result6,col=\"hear_AA_1\",show_plot=True,figsize=(4,4))"
      ],
      "execution_count": 49,
      "outputs": [
        {
          "output_type": "display_data",
          "data": {
            "image/png": "[encoded data removed]",
            "text/plain": [
              "<Figure size 720x432 with 1 Axes>"
            ]
          },
          "metadata": {
            "tags": [],
            "needs_background": "light"
          }
        },
        {
          "output_type": "execute_result",
          "data": {
            "text/html": [
              "<div>\n",
              "<style scoped>\n",
              "    .dataframe tbody tr th:only-of-type {\n",
              "        vertical-align: middle;\n",
              "    }\n",
              "\n",
              "    .dataframe tbody tr th {\n",
              "        vertical-align: top;\n",
              "    }\n",
              "\n",
              "    .dataframe thead th {\n",
              "        text-align: right;\n",
              "    }\n",
              "</style>\n",
              "<table border=\"1\" class=\"dataframe\">\n",
              "  <thead>\n",
              "    <tr style=\"text-align: right;\">\n",
              "      <th></th>\n",
              "      <th>Total</th>\n",
              "      <th>Percent</th>\n",
              "    </tr>\n",
              "  </thead>\n",
              "  <tbody>\n",
              "    <tr>\n",
              "      <th>Friend</th>\n",
              "      <td>67</td>\n",
              "      <td>0.268</td>\n",
              "    </tr>\n",
              "    <tr>\n",
              "      <th>WhatsApp</th>\n",
              "      <td>66</td>\n",
              "      <td>0.264</td>\n",
              "    </tr>\n",
              "    <tr>\n",
              "      <th>Facebook</th>\n",
              "      <td>40</td>\n",
              "      <td>0.160</td>\n",
              "    </tr>\n",
              "    <tr>\n",
              "      <th>ESIH</th>\n",
              "      <td>18</td>\n",
              "      <td>0.072</td>\n",
              "    </tr>\n",
              "    <tr>\n",
              "      <th>Ayiti Analytics Website</th>\n",
              "      <td>15</td>\n",
              "      <td>0.060</td>\n",
              "    </tr>\n",
              "    <tr>\n",
              "      <th>LinkedIn</th>\n",
              "      <td>15</td>\n",
              "      <td>0.060</td>\n",
              "    </tr>\n",
              "    <tr>\n",
              "      <th>Bootcamp Alumni</th>\n",
              "      <td>14</td>\n",
              "      <td>0.056</td>\n",
              "    </tr>\n",
              "    <tr>\n",
              "      <th>other</th>\n",
              "      <td>9</td>\n",
              "      <td>0.036</td>\n",
              "    </tr>\n",
              "    <tr>\n",
              "      <th>Instagram</th>\n",
              "      <td>5</td>\n",
              "      <td>0.020</td>\n",
              "    </tr>\n",
              "    <tr>\n",
              "      <th>unknown</th>\n",
              "      <td>1</td>\n",
              "      <td>0.004</td>\n",
              "    </tr>\n",
              "  </tbody>\n",
              "</table>\n",
              "</div>"
            ],
            "text/plain": [
              "                         Total  Percent\n",
              "Friend                      67    0.268\n",
              "WhatsApp                    66    0.264\n",
              "Facebook                    40    0.160\n",
              "ESIH                        18    0.072\n",
              "Ayiti Analytics Website     15    0.060\n",
              "LinkedIn                    15    0.060\n",
              "Bootcamp Alumni             14    0.056\n",
              "other                        9    0.036\n",
              "Instagram                    5    0.020\n",
              "unknown                      1    0.004"
            ]
          },
          "metadata": {
            "tags": []
          },
          "execution_count": 49
        }
      ]
    },
    {
      "cell_type": "markdown",
      "metadata": {
        "id": "TCgnhOh3Oa5U"
      },
      "source": [
        "What is the average number of university students who should participate in this program"
      ]
    },
    {
      "cell_type": "code",
      "metadata": {
        "colab": {
          "base_uri": "https://localhost:8080/",
          "height": 228
        },
        "id": "f7PM-TOrOgK7",
        "outputId": "188f3fc3-2948-4515-8392-fcfd9bd7af1c"
      },
      "source": [
        "# give the percent of education level in a frame\n",
        "education_percent = df_result6.education_level.value_counts(normalize=True).to_frame()\n",
        "# display education percent\n",
        "education_percent\n",
        "# count the number of the education level column\n",
        "education_total = df_result6.education_level.value_counts(normalize=False).to_frame()\n",
        "# display education total\n",
        "education_total\n",
        "# rename the education level into total and percent\n",
        "education_total.rename(columns={\"education_level\": \"Total\"},inplace=True)\n",
        "education_percent.rename(columns={\"education_level\": \"percent\"},inplace=True)\n",
        "# concat education total and education percent on line\n",
        "education_result = pd.concat ([education_total,education_percent],axis =1)\n",
        "# display education result\n",
        "education_result\n"
      ],
      "execution_count": 50,
      "outputs": [
        {
          "output_type": "execute_result",
          "data": {
            "text/html": [
              "<div>\n",
              "<style scoped>\n",
              "    .dataframe tbody tr th:only-of-type {\n",
              "        vertical-align: middle;\n",
              "    }\n",
              "\n",
              "    .dataframe tbody tr th {\n",
              "        vertical-align: top;\n",
              "    }\n",
              "\n",
              "    .dataframe thead th {\n",
              "        text-align: right;\n",
              "    }\n",
              "</style>\n",
              "<table border=\"1\" class=\"dataframe\">\n",
              "  <thead>\n",
              "    <tr style=\"text-align: right;\">\n",
              "      <th></th>\n",
              "      <th>Total</th>\n",
              "      <th>percent</th>\n",
              "    </tr>\n",
              "  </thead>\n",
              "  <tbody>\n",
              "    <tr>\n",
              "      <th>Bachelors (bacc +4)</th>\n",
              "      <td>148</td>\n",
              "      <td>0.592</td>\n",
              "    </tr>\n",
              "    <tr>\n",
              "      <th>Other</th>\n",
              "      <td>51</td>\n",
              "      <td>0.204</td>\n",
              "    </tr>\n",
              "    <tr>\n",
              "      <th>High School (16 years)</th>\n",
              "      <td>33</td>\n",
              "      <td>0.132</td>\n",
              "    </tr>\n",
              "    <tr>\n",
              "      <th>Masters</th>\n",
              "      <td>14</td>\n",
              "      <td>0.056</td>\n",
              "    </tr>\n",
              "    <tr>\n",
              "      <th>unknown</th>\n",
              "      <td>3</td>\n",
              "      <td>0.012</td>\n",
              "    </tr>\n",
              "    <tr>\n",
              "      <th>Doctorate (PhD, MD, JD)</th>\n",
              "      <td>1</td>\n",
              "      <td>0.004</td>\n",
              "    </tr>\n",
              "  </tbody>\n",
              "</table>\n",
              "</div>"
            ],
            "text/plain": [
              "                         Total  percent\n",
              "Bachelors (bacc +4)        148    0.592\n",
              "Other                       51    0.204\n",
              "High School (16 years)      33    0.132\n",
              "Masters                     14    0.056\n",
              "unknown                      3    0.012\n",
              "Doctorate (PhD, MD, JD)      1    0.004"
            ]
          },
          "metadata": {
            "tags": []
          },
          "execution_count": 50
        }
      ]
    },
    {
      "cell_type": "code",
      "metadata": {
        "colab": {
          "base_uri": "https://localhost:8080/"
        },
        "id": "-aRZRE3NgiER",
        "outputId": "c6e0d2b0-9dad-43f4-a675-a47dc233fe80"
      },
      "source": [
        "# to calculate the frequencies of the sum of the number of bachelor, master and doctorate degree\n",
        "fekans=((df_result6[['education_level']]==\"Bachelors (bacc +4)\").sum() + (df_result6[['education_level']]==\"Masters\").sum() + (df_result6[['education_level']]==\"Doctorate (PhD, MD, JD)\").sum())/df_result6.shape[0]\n",
        "# return the frekans result multiply by 4.5 \n",
        "np.round(fekans*df_result6.shape[0]*4.5,0)"
      ],
      "execution_count": 51,
      "outputs": [
        {
          "output_type": "execute_result",
          "data": {
            "text/plain": [
              "education_level    734.0\n",
              "dtype: float64"
            ]
          },
          "metadata": {
            "tags": []
          },
          "execution_count": 51
        }
      ]
    },
    {
      "cell_type": "code",
      "metadata": {
        "colab": {
          "base_uri": "https://localhost:8080/",
          "height": 258
        },
        "id": "Rj-PjpuphPNb",
        "outputId": "b3318162-4e90-4084-a193-678d8e52f0db"
      },
      "source": [
        "# call the pivot function on education level\n",
        "pv_education=pivot(\"education_level\")\n",
        "# dispalay the two lines of pv_education\n",
        "pv_education.head(2)\n",
        "# do the sum of pv education value in a frame\n",
        "pv_education.sum().to_frame()\n"
      ],
      "execution_count": 52,
      "outputs": [
        {
          "output_type": "execute_result",
          "data": {
            "text/html": [
              "<div>\n",
              "<style scoped>\n",
              "    .dataframe tbody tr th:only-of-type {\n",
              "        vertical-align: middle;\n",
              "    }\n",
              "\n",
              "    .dataframe tbody tr th {\n",
              "        vertical-align: top;\n",
              "    }\n",
              "\n",
              "    .dataframe thead th {\n",
              "        text-align: right;\n",
              "    }\n",
              "</style>\n",
              "<table border=\"1\" class=\"dataframe\">\n",
              "  <thead>\n",
              "    <tr style=\"text-align: right;\">\n",
              "      <th></th>\n",
              "      <th>0</th>\n",
              "    </tr>\n",
              "    <tr>\n",
              "      <th>education_level</th>\n",
              "      <th></th>\n",
              "    </tr>\n",
              "  </thead>\n",
              "  <tbody>\n",
              "    <tr>\n",
              "      <th>Bachelors (bacc +4)</th>\n",
              "      <td>148.0</td>\n",
              "    </tr>\n",
              "    <tr>\n",
              "      <th>Doctorate (PhD, MD, JD)</th>\n",
              "      <td>1.0</td>\n",
              "    </tr>\n",
              "    <tr>\n",
              "      <th>High School (16 years)</th>\n",
              "      <td>33.0</td>\n",
              "    </tr>\n",
              "    <tr>\n",
              "      <th>Masters</th>\n",
              "      <td>14.0</td>\n",
              "    </tr>\n",
              "    <tr>\n",
              "      <th>Other</th>\n",
              "      <td>51.0</td>\n",
              "    </tr>\n",
              "    <tr>\n",
              "      <th>unknown</th>\n",
              "      <td>3.0</td>\n",
              "    </tr>\n",
              "  </tbody>\n",
              "</table>\n",
              "</div>"
            ],
            "text/plain": [
              "                             0\n",
              "education_level               \n",
              "Bachelors (bacc +4)      148.0\n",
              "Doctorate (PhD, MD, JD)    1.0\n",
              "High School (16 years)    33.0\n",
              "Masters                   14.0\n",
              "Other                     51.0\n",
              "unknown                    3.0"
            ]
          },
          "metadata": {
            "tags": []
          },
          "execution_count": 52
        }
      ]
    },
    {
      "cell_type": "code",
      "metadata": {
        "colab": {
          "base_uri": "https://localhost:8080/"
        },
        "id": "y1Ibjkj9n_6C",
        "outputId": "050795c7-b32f-4e43-ab6a-d710b7de380e"
      },
      "source": [
        "# to find the average of university student\n",
        "((df_result6[['education_level']]==\"Bachelors (bacc +4)\").sum() + (df_result6[['education_level']]==\"Masters\").sum() + (df_result6[['education_level']]==\"Doctorate (PhD, MD, JD)\t\").sum())/df_result6.shape[0]\n"
      ],
      "execution_count": 53,
      "outputs": [
        {
          "output_type": "execute_result",
          "data": {
            "text/plain": [
              "education_level    0.648\n",
              "dtype: float64"
            ]
          },
          "metadata": {
            "tags": []
          },
          "execution_count": 53
        }
      ]
    },
    {
      "cell_type": "code",
      "metadata": {
        "id": "zwMLCJYs6FR6"
      },
      "source": [
        "#add male colum to df_result6 and apply the lambda function to put one if its a male and zero for the female\n",
        "df_result6[\"male\"] = df_result6[\"gender\"].apply(lambda x: 1 if x == \"male\" else 0)\n"
      ],
      "execution_count": 54,
      "outputs": []
    },
    {
      "cell_type": "code",
      "metadata": {
        "id": "WNxs-9-_I8hg"
      },
      "source": [
        "# add a female column to df_result6 and apply lambda function to put one for a female and zero for a male\n",
        "df_result6[\"female\"] =df_result6[\"gender\"].apply(lambda x: 1 if x==\"female\" else 0)"
      ],
      "execution_count": 55,
      "outputs": []
    },
    {
      "cell_type": "markdown",
      "metadata": {
        "id": "4DCnK-__PxBv"
      },
      "source": [
        "What will be the average number of applications per week that we could have"
      ]
    },
    {
      "cell_type": "code",
      "metadata": {
        "colab": {
          "base_uri": "https://localhost:8080/",
          "height": 228
        },
        "id": "cHSBJMDhw1AG",
        "outputId": "df5bbdca-83de-4531-8c51-b810a7efa14d"
      },
      "source": [
        "# do a group by registration date to find the number of female and male applicant by week\n",
        "registration_data =df_result6[[\"Registration_date\",\"quest_id\", \"female\",\"male\"]].groupby(pd.Grouper(key=\"Registration_date\",freq='7D')).sum()\n",
        "registration_data"
      ],
      "execution_count": 56,
      "outputs": [
        {
          "output_type": "execute_result",
          "data": {
            "text/html": [
              "<div>\n",
              "<style scoped>\n",
              "    .dataframe tbody tr th:only-of-type {\n",
              "        vertical-align: middle;\n",
              "    }\n",
              "\n",
              "    .dataframe tbody tr th {\n",
              "        vertical-align: top;\n",
              "    }\n",
              "\n",
              "    .dataframe thead th {\n",
              "        text-align: right;\n",
              "    }\n",
              "</style>\n",
              "<table border=\"1\" class=\"dataframe\">\n",
              "  <thead>\n",
              "    <tr style=\"text-align: right;\">\n",
              "      <th></th>\n",
              "      <th>female</th>\n",
              "      <th>male</th>\n",
              "    </tr>\n",
              "    <tr>\n",
              "      <th>Registration_date</th>\n",
              "      <th></th>\n",
              "      <th></th>\n",
              "    </tr>\n",
              "  </thead>\n",
              "  <tbody>\n",
              "    <tr>\n",
              "      <th>2021-02-14</th>\n",
              "      <td>28</td>\n",
              "      <td>108</td>\n",
              "    </tr>\n",
              "    <tr>\n",
              "      <th>2021-02-21</th>\n",
              "      <td>13</td>\n",
              "      <td>41</td>\n",
              "    </tr>\n",
              "    <tr>\n",
              "      <th>2021-02-28</th>\n",
              "      <td>3</td>\n",
              "      <td>26</td>\n",
              "    </tr>\n",
              "    <tr>\n",
              "      <th>2021-03-07</th>\n",
              "      <td>3</td>\n",
              "      <td>26</td>\n",
              "    </tr>\n",
              "    <tr>\n",
              "      <th>2021-03-14</th>\n",
              "      <td>0</td>\n",
              "      <td>2</td>\n",
              "    </tr>\n",
              "  </tbody>\n",
              "</table>\n",
              "</div>"
            ],
            "text/plain": [
              "                   female  male\n",
              "Registration_date              \n",
              "2021-02-14             28   108\n",
              "2021-02-21             13    41\n",
              "2021-02-28              3    26\n",
              "2021-03-07              3    26\n",
              "2021-03-14              0     2"
            ]
          },
          "metadata": {
            "tags": []
          },
          "execution_count": 56
        }
      ]
    },
    {
      "cell_type": "code",
      "metadata": {
        "colab": {
          "base_uri": "https://localhost:8080/",
          "height": 228
        },
        "id": "s7uuwuhtQH4t",
        "outputId": "d6ed855b-1904-4a1a-d36b-a0949f5ea25b"
      },
      "source": [
        "# add a sum column and do the the sum of male and female column\n",
        "registration_data['sum']=registration_data['male']+registration_data['female']\n",
        "#display the registration data head \n",
        "registration_data.head()\n",
        "#add a colums of frequenceies , and calculate it\n",
        "registration_data['frequencies']=registration_data['sum']/df_result6.shape[0]\n",
        "#display the registration data five lines\n",
        "registration_data.head()\n",
        "# registration_data_mean=(registration_data['sum'].sum())/registration_data.shape[0]\n",
        "# registration_data_mean\n",
        "#prob_category(data=registration,col=\"frequencies\",show_plot=True,figsize= (3,2), title=\"Repartition des...\")\n"
      ],
      "execution_count": 57,
      "outputs": [
        {
          "output_type": "execute_result",
          "data": {
            "text/html": [
              "<div>\n",
              "<style scoped>\n",
              "    .dataframe tbody tr th:only-of-type {\n",
              "        vertical-align: middle;\n",
              "    }\n",
              "\n",
              "    .dataframe tbody tr th {\n",
              "        vertical-align: top;\n",
              "    }\n",
              "\n",
              "    .dataframe thead th {\n",
              "        text-align: right;\n",
              "    }\n",
              "</style>\n",
              "<table border=\"1\" class=\"dataframe\">\n",
              "  <thead>\n",
              "    <tr style=\"text-align: right;\">\n",
              "      <th></th>\n",
              "      <th>female</th>\n",
              "      <th>male</th>\n",
              "      <th>sum</th>\n",
              "      <th>frequencies</th>\n",
              "    </tr>\n",
              "    <tr>\n",
              "      <th>Registration_date</th>\n",
              "      <th></th>\n",
              "      <th></th>\n",
              "      <th></th>\n",
              "      <th></th>\n",
              "    </tr>\n",
              "  </thead>\n",
              "  <tbody>\n",
              "    <tr>\n",
              "      <th>2021-02-14</th>\n",
              "      <td>28</td>\n",
              "      <td>108</td>\n",
              "      <td>136</td>\n",
              "      <td>0.544</td>\n",
              "    </tr>\n",
              "    <tr>\n",
              "      <th>2021-02-21</th>\n",
              "      <td>13</td>\n",
              "      <td>41</td>\n",
              "      <td>54</td>\n",
              "      <td>0.216</td>\n",
              "    </tr>\n",
              "    <tr>\n",
              "      <th>2021-02-28</th>\n",
              "      <td>3</td>\n",
              "      <td>26</td>\n",
              "      <td>29</td>\n",
              "      <td>0.116</td>\n",
              "    </tr>\n",
              "    <tr>\n",
              "      <th>2021-03-07</th>\n",
              "      <td>3</td>\n",
              "      <td>26</td>\n",
              "      <td>29</td>\n",
              "      <td>0.116</td>\n",
              "    </tr>\n",
              "    <tr>\n",
              "      <th>2021-03-14</th>\n",
              "      <td>0</td>\n",
              "      <td>2</td>\n",
              "      <td>2</td>\n",
              "      <td>0.008</td>\n",
              "    </tr>\n",
              "  </tbody>\n",
              "</table>\n",
              "</div>"
            ],
            "text/plain": [
              "                   female  male  sum  frequencies\n",
              "Registration_date                                \n",
              "2021-02-14             28   108  136        0.544\n",
              "2021-02-21             13    41   54        0.216\n",
              "2021-02-28              3    26   29        0.116\n",
              "2021-03-07              3    26   29        0.116\n",
              "2021-03-14              0     2    2        0.008"
            ]
          },
          "metadata": {
            "tags": []
          },
          "execution_count": 57
        }
      ]
    },
    {
      "cell_type": "markdown",
      "metadata": {
        "id": "RDKaAJjwZaFd"
      },
      "source": [
        "How many weeks should we extend the application process to select 60 students per commune?\n"
      ]
    },
    {
      "cell_type": "code",
      "metadata": {
        "colab": {
          "base_uri": "https://localhost:8080/",
          "height": 333
        },
        "id": "8z-FGj5kG4bL",
        "outputId": "32dfb920-eda9-4596-e55e-5cc66930d4db"
      },
      "source": [
        "#do the graph registration_data for the all lines and third columm\n",
        "registration_data.iloc[:,[3]].plot()"
      ],
      "execution_count": 58,
      "outputs": [
        {
          "output_type": "execute_result",
          "data": {
            "text/plain": [
              "<matplotlib.axes._subplots.AxesSubplot at 0x7fc7b9683f50>"
            ]
          },
          "metadata": {
            "tags": []
          },
          "execution_count": 58
        },
        {
          "output_type": "display_data",
          "data": {
            "image/png": "[encoded data removed]",
            "text/plain": [
              "<Figure size 432x288 with 1 Axes>"
            ]
          },
          "metadata": {
            "tags": [],
            "needs_background": "light"
          }
        }
      ]
    },
    {
      "cell_type": "markdown",
      "metadata": {
        "id": "tzURNymKHCfc"
      },
      "source": [
        "when we look at the trend, we see that the frequency of registration is constantly decreasing. Therefore, we do not believe that extending the weeks will increase the number of registrations unless you change your marketing policy."
      ]
    },
    {
      "cell_type": "markdown",
      "metadata": {
        "id": "zRnOvPqN0A0n"
      },
      "source": [
        "If we were to do all the bootcamp online, who would be the best communes and how many applications would we need to select 30 student and what percentage of students would have a laptop, an internet connection, both at the same time"
      ]
    },
    {
      "cell_type": "code",
      "metadata": {
        "id": "sj-gjUBaJj97",
        "colab": {
          "base_uri": "https://localhost:8080/",
          "height": 168
        },
        "outputId": "89b9faf5-6463-402e-96dd-b0576b337075"
      },
      "source": [
        "#take the column of have internet in pv_internet in a frame\n",
        "int_home=pv_internet[\"have_internet\"].to_frame()\n",
        "#calculate the percet of int_home dta frame\n",
        "int_home_percent = int_home/df_result6.shape[0]\n",
        "# assignate to int home 1 a sort value function ascending false\n",
        "int_home1=int_home.sort_values(by=\"have_internet\", ascending=False)\n",
        "# do a sort value to find the number in order false\n",
        "int_home_percent1=int_home_percent.sort_values(by=\"have_internet\", ascending=False)\n",
        "# rename the name columns\n",
        "int_home1.rename(columns={\"have_internet\": \"internet_total\"},inplace=True)\n",
        "# rename the column\n",
        "int_home_percent1.rename(columns={\"have_internet\": \"internet_percent\"},inplace=True)\n",
        "# concat int home 1 and int home percent 1\n",
        "int_result= pd.concat([int_home1,int_home_percent1], axis=1)\n",
        "# display three columns in int result\n",
        "int_result.loc[[\"Delmas\",\"Pétion-Ville\",\"Carrefour\"]]\n"
      ],
      "execution_count": 59,
      "outputs": [
        {
          "output_type": "execute_result",
          "data": {
            "text/html": [
              "<div>\n",
              "<style scoped>\n",
              "    .dataframe tbody tr th:only-of-type {\n",
              "        vertical-align: middle;\n",
              "    }\n",
              "\n",
              "    .dataframe tbody tr th {\n",
              "        vertical-align: top;\n",
              "    }\n",
              "\n",
              "    .dataframe thead th {\n",
              "        text-align: right;\n",
              "    }\n",
              "</style>\n",
              "<table border=\"1\" class=\"dataframe\">\n",
              "  <thead>\n",
              "    <tr style=\"text-align: right;\">\n",
              "      <th></th>\n",
              "      <th>internet_total</th>\n",
              "      <th>internet_percent</th>\n",
              "    </tr>\n",
              "    <tr>\n",
              "      <th>Commune_FR</th>\n",
              "      <th></th>\n",
              "      <th></th>\n",
              "    </tr>\n",
              "  </thead>\n",
              "  <tbody>\n",
              "    <tr>\n",
              "      <th>Delmas</th>\n",
              "      <td>61.0</td>\n",
              "      <td>0.244</td>\n",
              "    </tr>\n",
              "    <tr>\n",
              "      <th>Pétion-Ville</th>\n",
              "      <td>25.0</td>\n",
              "      <td>0.100</td>\n",
              "    </tr>\n",
              "    <tr>\n",
              "      <th>Carrefour</th>\n",
              "      <td>18.0</td>\n",
              "      <td>0.072</td>\n",
              "    </tr>\n",
              "  </tbody>\n",
              "</table>\n",
              "</div>"
            ],
            "text/plain": [
              "              internet_total  internet_percent\n",
              "Commune_FR                                    \n",
              "Delmas                  61.0             0.244\n",
              "Pétion-Ville            25.0             0.100\n",
              "Carrefour               18.0             0.072"
            ]
          },
          "metadata": {
            "tags": []
          },
          "execution_count": 59
        }
      ]
    },
    {
      "cell_type": "code",
      "metadata": {
        "colab": {
          "base_uri": "https://localhost:8080/",
          "height": 405
        },
        "id": "sPWtWcGxWtP0",
        "outputId": "84f32a8e-1e3f-4d09-ddb4-a93afe5525ec"
      },
      "source": [
        "# call the generate barchat function to display the graph for three columns\n",
        "generate_barchart(data=int_result.loc[[\"Delmas\",\"Pétion-Ville\",\"Carrefour\"]],title=\"Total and Percent by Commune which have internet or not\",abs_value=\"internet_total\",rel_value=\"internet_percent\")\n"
      ],
      "execution_count": 60,
      "outputs": [
        {
          "output_type": "display_data",
          "data": {
            "image/png": "[encoded data removed]",
            "text/plain": [
              "<Figure size 720x432 with 1 Axes>"
            ]
          },
          "metadata": {
            "tags": [],
            "needs_background": "light"
          }
        }
      ]
    },
    {
      "cell_type": "code",
      "metadata": {
        "colab": {
          "base_uri": "https://localhost:8080/",
          "height": 168
        },
        "id": "aBYIP818C3_I",
        "outputId": "0c0e0ba9-dfef-46ce-bf22-d4341d627f5c"
      },
      "source": [
        "#take the column of have computer in pv_internet in a frame\n",
        "computer=pv_computer[\"have_computer\"].to_frame()\n",
        "#calculate the percent of computer percent  \n",
        "computer_percent = computer/df_result6.shape[0]\n",
        "# assignate to computer1 a sort value function ascending false\n",
        "computer1=computer.sort_values(by=\"have_computer\", ascending=False)\n",
        "# do a sort value to find the number in order false\n",
        "computer_percent1=computer_percent.sort_values(by=\"have_computer\", ascending=False)\n",
        "# rename the name columns\n",
        "computer1.rename(columns={\"have_computer\": \"computer_total\"},inplace=True)\n",
        "# rename the columns\n",
        "computer_percent1.rename(columns={\"have_computer\": \"computer_percent\"},inplace=True)\n",
        "# concat computer1 and computer_percent1\n",
        "computer_result= pd.concat([computer1,computer_percent1], axis=1)\n",
        "# display three columns in computer_result\n",
        "computer_result.loc[[\"Delmas\",\"Pétion-Ville\",\"Carrefour\"]]"
      ],
      "execution_count": 61,
      "outputs": [
        {
          "output_type": "execute_result",
          "data": {
            "text/html": [
              "<div>\n",
              "<style scoped>\n",
              "    .dataframe tbody tr th:only-of-type {\n",
              "        vertical-align: middle;\n",
              "    }\n",
              "\n",
              "    .dataframe tbody tr th {\n",
              "        vertical-align: top;\n",
              "    }\n",
              "\n",
              "    .dataframe thead th {\n",
              "        text-align: right;\n",
              "    }\n",
              "</style>\n",
              "<table border=\"1\" class=\"dataframe\">\n",
              "  <thead>\n",
              "    <tr style=\"text-align: right;\">\n",
              "      <th></th>\n",
              "      <th>computer_total</th>\n",
              "      <th>computer_percent</th>\n",
              "    </tr>\n",
              "    <tr>\n",
              "      <th>Commune_FR</th>\n",
              "      <th></th>\n",
              "      <th></th>\n",
              "    </tr>\n",
              "  </thead>\n",
              "  <tbody>\n",
              "    <tr>\n",
              "      <th>Delmas</th>\n",
              "      <td>66.0</td>\n",
              "      <td>0.264</td>\n",
              "    </tr>\n",
              "    <tr>\n",
              "      <th>Pétion-Ville</th>\n",
              "      <td>25.0</td>\n",
              "      <td>0.100</td>\n",
              "    </tr>\n",
              "    <tr>\n",
              "      <th>Carrefour</th>\n",
              "      <td>21.0</td>\n",
              "      <td>0.084</td>\n",
              "    </tr>\n",
              "  </tbody>\n",
              "</table>\n",
              "</div>"
            ],
            "text/plain": [
              "              computer_total  computer_percent\n",
              "Commune_FR                                    \n",
              "Delmas                  66.0             0.264\n",
              "Pétion-Ville            25.0             0.100\n",
              "Carrefour               21.0             0.084"
            ]
          },
          "metadata": {
            "tags": []
          },
          "execution_count": 61
        }
      ]
    },
    {
      "cell_type": "code",
      "metadata": {
        "colab": {
          "base_uri": "https://localhost:8080/",
          "height": 405
        },
        "id": "CUvhh5wCaEm7",
        "outputId": "0b9506d5-5acf-43d9-ebca-b3e80fb47594"
      },
      "source": [
        "# call the generate barchert function to display the graph by commune wich have computer or not\n",
        "generate_barchart(data=computer_result.loc[[\"Delmas\",\"Pétion-Ville\",\"Carrefour\"]],title=\"Total and Percent by Commune which have computer or not\",abs_value=\"computer_total\",rel_value=\"computer_percent\")\n"
      ],
      "execution_count": 62,
      "outputs": [
        {
          "output_type": "display_data",
          "data": {
            "image/png": "[encoded data removed]",
            "text/plain": [
              "<Figure size 720x432 with 1 Axes>"
            ]
          },
          "metadata": {
            "tags": [],
            "needs_background": "light"
          }
        }
      ]
    },
    {
      "cell_type": "code",
      "metadata": {
        "colab": {
          "base_uri": "https://localhost:8080/",
          "height": 168
        },
        "id": "OEqXVKxUX87G",
        "outputId": "c312eebc-de6a-48bf-dd12-d2676deee845"
      },
      "source": [
        "# merge int result and computer result dataframe\n",
        "comp_int= pd.merge(left=int_result,right=computer_result, how=\"left\", on=\"Commune_FR\")\n",
        "# assignate to compte final three columns selected\n",
        "compte_final=comp_int.loc[[\"Delmas\",\"Pétion-Ville\",\"Carrefour\"]]\n",
        "#display compte final\n",
        "compte_final"
      ],
      "execution_count": 63,
      "outputs": [
        {
          "output_type": "execute_result",
          "data": {
            "text/html": [
              "<div>\n",
              "<style scoped>\n",
              "    .dataframe tbody tr th:only-of-type {\n",
              "        vertical-align: middle;\n",
              "    }\n",
              "\n",
              "    .dataframe tbody tr th {\n",
              "        vertical-align: top;\n",
              "    }\n",
              "\n",
              "    .dataframe thead th {\n",
              "        text-align: right;\n",
              "    }\n",
              "</style>\n",
              "<table border=\"1\" class=\"dataframe\">\n",
              "  <thead>\n",
              "    <tr style=\"text-align: right;\">\n",
              "      <th></th>\n",
              "      <th>internet_total</th>\n",
              "      <th>internet_percent</th>\n",
              "      <th>computer_total</th>\n",
              "      <th>computer_percent</th>\n",
              "    </tr>\n",
              "    <tr>\n",
              "      <th>Commune_FR</th>\n",
              "      <th></th>\n",
              "      <th></th>\n",
              "      <th></th>\n",
              "      <th></th>\n",
              "    </tr>\n",
              "  </thead>\n",
              "  <tbody>\n",
              "    <tr>\n",
              "      <th>Delmas</th>\n",
              "      <td>61.0</td>\n",
              "      <td>0.244</td>\n",
              "      <td>66.0</td>\n",
              "      <td>0.264</td>\n",
              "    </tr>\n",
              "    <tr>\n",
              "      <th>Pétion-Ville</th>\n",
              "      <td>25.0</td>\n",
              "      <td>0.100</td>\n",
              "      <td>25.0</td>\n",
              "      <td>0.100</td>\n",
              "    </tr>\n",
              "    <tr>\n",
              "      <th>Carrefour</th>\n",
              "      <td>18.0</td>\n",
              "      <td>0.072</td>\n",
              "      <td>21.0</td>\n",
              "      <td>0.084</td>\n",
              "    </tr>\n",
              "  </tbody>\n",
              "</table>\n",
              "</div>"
            ],
            "text/plain": [
              "              internet_total  ...  computer_percent\n",
              "Commune_FR                    ...                  \n",
              "Delmas                  61.0  ...             0.264\n",
              "Pétion-Ville            25.0  ...             0.100\n",
              "Carrefour               18.0  ...             0.084\n",
              "\n",
              "[3 rows x 4 columns]"
            ]
          },
          "metadata": {
            "tags": []
          },
          "execution_count": 63
        }
      ]
    },
    {
      "cell_type": "code",
      "metadata": {
        "id": "yF0F1qqidrH1"
      },
      "source": [
        "#import listed colormap from matplolib library\n",
        "from matplotlib.colors import ListedColormap\n",
        "# ne_n_computer receive the pivot function on internet_at home\n",
        "net_n_computer =pivot(\"internet_at_home\")"
      ],
      "execution_count": 64,
      "outputs": []
    },
    {
      "cell_type": "code",
      "metadata": {
        "colab": {
          "base_uri": "https://localhost:8080/",
          "height": 299
        },
        "id": "6zPcho8URkjT",
        "outputId": "46b89947-4fd2-4986-f159-1cfc71586939"
      },
      "source": [
        "plt.figure(figsize=(8,4))\n",
        "#We have done a heat map so that we could see the commune in which the number of applicants who have internet at home is high\n",
        "sns.heatmap(data=compte_final[[\"internet_total\", \"computer_total\"]].T,cmap =ListedColormap(sns.color_palette(\"YlOrRd\", 10)),vmin =net_n_computer.min().min(),vmax =net_n_computer.max().max(),annot=True,linecolor=\"white\",linewidths=3)"
      ],
      "execution_count": 65,
      "outputs": [
        {
          "output_type": "execute_result",
          "data": {
            "text/plain": [
              "<matplotlib.axes._subplots.AxesSubplot at 0x7fc7b97a3990>"
            ]
          },
          "metadata": {
            "tags": []
          },
          "execution_count": 65
        },
        {
          "output_type": "display_data",
          "data": {
            "image/png": "[encoded data removed]",
            "text/plain": [
              "<Figure size 576x288 with 2 Axes>"
            ]
          },
          "metadata": {
            "tags": [],
            "needs_background": "light"
          }
        }
      ]
    },
    {
      "cell_type": "markdown",
      "metadata": {
        "id": "i7d3SiA8J5hG"
      },
      "source": [
        "What are the most effective communication channels (Alumni, Facebook, WhatsApp, Friend ...) that will allow a women to be susceptible to selection"
      ]
    },
    {
      "cell_type": "code",
      "metadata": {
        "colab": {
          "base_uri": "https://localhost:8080/",
          "height": 193
        },
        "id": "rftuXCyQSFLM",
        "outputId": "8568a05b-37ef-4c2c-a042-f8c29657c80e"
      },
      "source": [
        "# do a pivot_table on quest id by gender and the channels\n",
        "canal_data_1= pd.pivot_table(df_result6, values=\"quest_id\",index=\"gender\",columns=\"hear_AA_1\",aggfunc=\"count\")\n",
        "canal_data_1"
      ],
      "execution_count": 66,
      "outputs": [
        {
          "output_type": "execute_result",
          "data": {
            "text/html": [
              "<div>\n",
              "<style scoped>\n",
              "    .dataframe tbody tr th:only-of-type {\n",
              "        vertical-align: middle;\n",
              "    }\n",
              "\n",
              "    .dataframe tbody tr th {\n",
              "        vertical-align: top;\n",
              "    }\n",
              "\n",
              "    .dataframe thead th {\n",
              "        text-align: right;\n",
              "    }\n",
              "</style>\n",
              "<table border=\"1\" class=\"dataframe\">\n",
              "  <thead>\n",
              "    <tr style=\"text-align: right;\">\n",
              "      <th>hear_AA_1</th>\n",
              "      <th>Ayiti Analytics Website</th>\n",
              "      <th>Bootcamp Alumni</th>\n",
              "      <th>ESIH</th>\n",
              "      <th>Facebook</th>\n",
              "      <th>Friend</th>\n",
              "      <th>Instagram</th>\n",
              "      <th>LinkedIn</th>\n",
              "      <th>WhatsApp</th>\n",
              "      <th>other</th>\n",
              "      <th>unknown</th>\n",
              "    </tr>\n",
              "    <tr>\n",
              "      <th>gender</th>\n",
              "      <th></th>\n",
              "      <th></th>\n",
              "      <th></th>\n",
              "      <th></th>\n",
              "      <th></th>\n",
              "      <th></th>\n",
              "      <th></th>\n",
              "      <th></th>\n",
              "      <th></th>\n",
              "      <th></th>\n",
              "    </tr>\n",
              "  </thead>\n",
              "  <tbody>\n",
              "    <tr>\n",
              "      <th>female</th>\n",
              "      <td>4.0</td>\n",
              "      <td>8.0</td>\n",
              "      <td>5.0</td>\n",
              "      <td>6.0</td>\n",
              "      <td>11.0</td>\n",
              "      <td>1.0</td>\n",
              "      <td>1.0</td>\n",
              "      <td>9.0</td>\n",
              "      <td>2.0</td>\n",
              "      <td>NaN</td>\n",
              "    </tr>\n",
              "    <tr>\n",
              "      <th>male</th>\n",
              "      <td>11.0</td>\n",
              "      <td>6.0</td>\n",
              "      <td>13.0</td>\n",
              "      <td>34.0</td>\n",
              "      <td>56.0</td>\n",
              "      <td>4.0</td>\n",
              "      <td>14.0</td>\n",
              "      <td>57.0</td>\n",
              "      <td>7.0</td>\n",
              "      <td>1.0</td>\n",
              "    </tr>\n",
              "  </tbody>\n",
              "</table>\n",
              "</div>"
            ],
            "text/plain": [
              "hear_AA_1  Ayiti Analytics Website  Bootcamp Alumni  ...  other  unknown\n",
              "gender                                               ...                \n",
              "female                         4.0              8.0  ...    2.0      NaN\n",
              "male                          11.0              6.0  ...    7.0      1.0\n",
              "\n",
              "[2 rows x 10 columns]"
            ]
          },
          "metadata": {
            "tags": []
          },
          "execution_count": 66
        }
      ]
    },
    {
      "cell_type": "code",
      "metadata": {
        "colab": {
          "base_uri": "https://localhost:8080/",
          "height": 459
        },
        "id": "65mBwBqLoxhi",
        "outputId": "f0179a6e-873a-4e86-f2db-8b4dc50d0a2e"
      },
      "source": [
        "#generate_barchart(data=gender_result,title=\"Total et Percent By Sex\",abs_value=\"Total\",rel_value=\"Percent\")\n",
        "figure_1 = canal_data_1.iloc[0,:].plot(kind=\"bar\")\n",
        "# Get a Matplotlib figure from the axes object for formatting purposes\n",
        "fig = figure_1.get_figure()\n",
        "# Change the plot dimensions (width, height)\n",
        "fig.set_size_inches(6,6)\n",
        "# Change the axes labels\n",
        "figure_1.set_xlabel(\"hear_AA_1\",fontsize=12)\n",
        "figure_1.set_ylabel(\"gender\",fontsize=12)\n",
        "figure_1.set_title(\"Distribution of women according to the channel used\",fontsize=12)\n",
        "# to put a font size to the graph\n",
        "plt.rcParams.update({'font.size': 10})\n",
        "#add legend\n",
        "figure_1.legend()\n",
        "plt.tight_layout()\n",
        "#plt.show()\n",
        "figure_1"
      ],
      "execution_count": 103,
      "outputs": [
        {
          "output_type": "execute_result",
          "data": {
            "text/plain": [
              "<matplotlib.axes._subplots.AxesSubplot at 0x7fc7abef5890>"
            ]
          },
          "metadata": {
            "tags": []
          },
          "execution_count": 103
        },
        {
          "output_type": "display_data",
          "data": {
            "image/png": "[encoded data removed]",
            "text/plain": [
              "<Figure size 432x432 with 1 Axes>"
            ]
          },
          "metadata": {
            "tags": [],
            "needs_background": "light"
          }
        }
      ]
    },
    {
      "cell_type": "code",
      "metadata": {
        "id": "Iy9QlIhlYF9l"
      },
      "source": [
        ""
      ],
      "execution_count": 68,
      "outputs": []
    }
  ]
}